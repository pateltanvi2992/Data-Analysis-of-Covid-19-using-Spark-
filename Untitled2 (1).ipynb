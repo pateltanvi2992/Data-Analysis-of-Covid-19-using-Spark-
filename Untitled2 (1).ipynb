{
 "cells": [
  {
   "cell_type": "code",
   "execution_count": 2,
   "metadata": {},
   "outputs": [
    {
     "name": "stdout",
     "output_type": "stream",
     "text": [
      "CPU times: user 1.06 s, sys: 505 ms, total: 1.56 s\n",
      "Wall time: 9.87 s\n"
     ]
    },
    {
     "data": {
      "text/html": [
       "<div>\n",
       "<style scoped>\n",
       "    .dataframe tbody tr th:only-of-type {\n",
       "        vertical-align: middle;\n",
       "    }\n",
       "\n",
       "    .dataframe tbody tr th {\n",
       "        vertical-align: top;\n",
       "    }\n",
       "\n",
       "    .dataframe thead th {\n",
       "        text-align: right;\n",
       "    }\n",
       "</style>\n",
       "<table border=\"1\" class=\"dataframe\">\n",
       "  <thead>\n",
       "    <tr style=\"text-align: right;\">\n",
       "      <th></th>\n",
       "      <th>iso_code</th>\n",
       "      <th>continent</th>\n",
       "      <th>location</th>\n",
       "      <th>date</th>\n",
       "      <th>total_cases</th>\n",
       "      <th>new_cases</th>\n",
       "      <th>new_cases_smoothed</th>\n",
       "      <th>total_deaths</th>\n",
       "      <th>new_deaths</th>\n",
       "      <th>new_deaths_smoothed</th>\n",
       "      <th>...</th>\n",
       "      <th>gdp_per_capita</th>\n",
       "      <th>extreme_poverty</th>\n",
       "      <th>cardiovasc_death_rate</th>\n",
       "      <th>diabetes_prevalence</th>\n",
       "      <th>female_smokers</th>\n",
       "      <th>male_smokers</th>\n",
       "      <th>handwashing_facilities</th>\n",
       "      <th>hospital_beds_per_thousand</th>\n",
       "      <th>life_expectancy</th>\n",
       "      <th>human_development_index</th>\n",
       "    </tr>\n",
       "  </thead>\n",
       "  <tbody>\n",
       "    <tr>\n",
       "      <th>0</th>\n",
       "      <td>AFG</td>\n",
       "      <td>Asia</td>\n",
       "      <td>Afghanistan</td>\n",
       "      <td>2020-02-24</td>\n",
       "      <td>1.0</td>\n",
       "      <td>1.0</td>\n",
       "      <td>NaN</td>\n",
       "      <td>NaN</td>\n",
       "      <td>NaN</td>\n",
       "      <td>NaN</td>\n",
       "      <td>...</td>\n",
       "      <td>1803.987</td>\n",
       "      <td>NaN</td>\n",
       "      <td>597.029</td>\n",
       "      <td>9.59</td>\n",
       "      <td>NaN</td>\n",
       "      <td>NaN</td>\n",
       "      <td>37.746</td>\n",
       "      <td>0.5</td>\n",
       "      <td>64.83</td>\n",
       "      <td>0.511</td>\n",
       "    </tr>\n",
       "    <tr>\n",
       "      <th>1</th>\n",
       "      <td>AFG</td>\n",
       "      <td>Asia</td>\n",
       "      <td>Afghanistan</td>\n",
       "      <td>2020-02-25</td>\n",
       "      <td>1.0</td>\n",
       "      <td>0.0</td>\n",
       "      <td>NaN</td>\n",
       "      <td>NaN</td>\n",
       "      <td>NaN</td>\n",
       "      <td>NaN</td>\n",
       "      <td>...</td>\n",
       "      <td>1803.987</td>\n",
       "      <td>NaN</td>\n",
       "      <td>597.029</td>\n",
       "      <td>9.59</td>\n",
       "      <td>NaN</td>\n",
       "      <td>NaN</td>\n",
       "      <td>37.746</td>\n",
       "      <td>0.5</td>\n",
       "      <td>64.83</td>\n",
       "      <td>0.511</td>\n",
       "    </tr>\n",
       "    <tr>\n",
       "      <th>2</th>\n",
       "      <td>AFG</td>\n",
       "      <td>Asia</td>\n",
       "      <td>Afghanistan</td>\n",
       "      <td>2020-02-26</td>\n",
       "      <td>1.0</td>\n",
       "      <td>0.0</td>\n",
       "      <td>NaN</td>\n",
       "      <td>NaN</td>\n",
       "      <td>NaN</td>\n",
       "      <td>NaN</td>\n",
       "      <td>...</td>\n",
       "      <td>1803.987</td>\n",
       "      <td>NaN</td>\n",
       "      <td>597.029</td>\n",
       "      <td>9.59</td>\n",
       "      <td>NaN</td>\n",
       "      <td>NaN</td>\n",
       "      <td>37.746</td>\n",
       "      <td>0.5</td>\n",
       "      <td>64.83</td>\n",
       "      <td>0.511</td>\n",
       "    </tr>\n",
       "    <tr>\n",
       "      <th>3</th>\n",
       "      <td>AFG</td>\n",
       "      <td>Asia</td>\n",
       "      <td>Afghanistan</td>\n",
       "      <td>2020-02-27</td>\n",
       "      <td>1.0</td>\n",
       "      <td>0.0</td>\n",
       "      <td>NaN</td>\n",
       "      <td>NaN</td>\n",
       "      <td>NaN</td>\n",
       "      <td>NaN</td>\n",
       "      <td>...</td>\n",
       "      <td>1803.987</td>\n",
       "      <td>NaN</td>\n",
       "      <td>597.029</td>\n",
       "      <td>9.59</td>\n",
       "      <td>NaN</td>\n",
       "      <td>NaN</td>\n",
       "      <td>37.746</td>\n",
       "      <td>0.5</td>\n",
       "      <td>64.83</td>\n",
       "      <td>0.511</td>\n",
       "    </tr>\n",
       "    <tr>\n",
       "      <th>4</th>\n",
       "      <td>AFG</td>\n",
       "      <td>Asia</td>\n",
       "      <td>Afghanistan</td>\n",
       "      <td>2020-02-28</td>\n",
       "      <td>1.0</td>\n",
       "      <td>0.0</td>\n",
       "      <td>NaN</td>\n",
       "      <td>NaN</td>\n",
       "      <td>NaN</td>\n",
       "      <td>NaN</td>\n",
       "      <td>...</td>\n",
       "      <td>1803.987</td>\n",
       "      <td>NaN</td>\n",
       "      <td>597.029</td>\n",
       "      <td>9.59</td>\n",
       "      <td>NaN</td>\n",
       "      <td>NaN</td>\n",
       "      <td>37.746</td>\n",
       "      <td>0.5</td>\n",
       "      <td>64.83</td>\n",
       "      <td>0.511</td>\n",
       "    </tr>\n",
       "    <tr>\n",
       "      <th>...</th>\n",
       "      <td>...</td>\n",
       "      <td>...</td>\n",
       "      <td>...</td>\n",
       "      <td>...</td>\n",
       "      <td>...</td>\n",
       "      <td>...</td>\n",
       "      <td>...</td>\n",
       "      <td>...</td>\n",
       "      <td>...</td>\n",
       "      <td>...</td>\n",
       "      <td>...</td>\n",
       "      <td>...</td>\n",
       "      <td>...</td>\n",
       "      <td>...</td>\n",
       "      <td>...</td>\n",
       "      <td>...</td>\n",
       "      <td>...</td>\n",
       "      <td>...</td>\n",
       "      <td>...</td>\n",
       "      <td>...</td>\n",
       "      <td>...</td>\n",
       "    </tr>\n",
       "    <tr>\n",
       "      <th>77747</th>\n",
       "      <td>ZWE</td>\n",
       "      <td>Africa</td>\n",
       "      <td>Zimbabwe</td>\n",
       "      <td>2021-03-23</td>\n",
       "      <td>36717.0</td>\n",
       "      <td>33.0</td>\n",
       "      <td>26.000</td>\n",
       "      <td>1516.0</td>\n",
       "      <td>2.0</td>\n",
       "      <td>1.286</td>\n",
       "      <td>...</td>\n",
       "      <td>1899.775</td>\n",
       "      <td>21.4</td>\n",
       "      <td>307.846</td>\n",
       "      <td>1.82</td>\n",
       "      <td>1.6</td>\n",
       "      <td>30.7</td>\n",
       "      <td>36.791</td>\n",
       "      <td>1.7</td>\n",
       "      <td>61.49</td>\n",
       "      <td>0.571</td>\n",
       "    </tr>\n",
       "    <tr>\n",
       "      <th>77748</th>\n",
       "      <td>ZWE</td>\n",
       "      <td>Africa</td>\n",
       "      <td>Zimbabwe</td>\n",
       "      <td>2021-03-24</td>\n",
       "      <td>36749.0</td>\n",
       "      <td>32.0</td>\n",
       "      <td>28.143</td>\n",
       "      <td>1516.0</td>\n",
       "      <td>0.0</td>\n",
       "      <td>1.143</td>\n",
       "      <td>...</td>\n",
       "      <td>1899.775</td>\n",
       "      <td>21.4</td>\n",
       "      <td>307.846</td>\n",
       "      <td>1.82</td>\n",
       "      <td>1.6</td>\n",
       "      <td>30.7</td>\n",
       "      <td>36.791</td>\n",
       "      <td>1.7</td>\n",
       "      <td>61.49</td>\n",
       "      <td>0.571</td>\n",
       "    </tr>\n",
       "    <tr>\n",
       "      <th>77749</th>\n",
       "      <td>ZWE</td>\n",
       "      <td>Africa</td>\n",
       "      <td>Zimbabwe</td>\n",
       "      <td>2021-03-25</td>\n",
       "      <td>36778.0</td>\n",
       "      <td>29.0</td>\n",
       "      <td>23.857</td>\n",
       "      <td>1518.0</td>\n",
       "      <td>2.0</td>\n",
       "      <td>1.286</td>\n",
       "      <td>...</td>\n",
       "      <td>1899.775</td>\n",
       "      <td>21.4</td>\n",
       "      <td>307.846</td>\n",
       "      <td>1.82</td>\n",
       "      <td>1.6</td>\n",
       "      <td>30.7</td>\n",
       "      <td>36.791</td>\n",
       "      <td>1.7</td>\n",
       "      <td>61.49</td>\n",
       "      <td>0.571</td>\n",
       "    </tr>\n",
       "    <tr>\n",
       "      <th>77750</th>\n",
       "      <td>ZWE</td>\n",
       "      <td>Africa</td>\n",
       "      <td>Zimbabwe</td>\n",
       "      <td>2021-03-26</td>\n",
       "      <td>36805.0</td>\n",
       "      <td>27.0</td>\n",
       "      <td>21.857</td>\n",
       "      <td>1518.0</td>\n",
       "      <td>0.0</td>\n",
       "      <td>1.143</td>\n",
       "      <td>...</td>\n",
       "      <td>1899.775</td>\n",
       "      <td>21.4</td>\n",
       "      <td>307.846</td>\n",
       "      <td>1.82</td>\n",
       "      <td>1.6</td>\n",
       "      <td>30.7</td>\n",
       "      <td>36.791</td>\n",
       "      <td>1.7</td>\n",
       "      <td>61.49</td>\n",
       "      <td>0.571</td>\n",
       "    </tr>\n",
       "    <tr>\n",
       "      <th>77751</th>\n",
       "      <td>ZWE</td>\n",
       "      <td>Africa</td>\n",
       "      <td>Zimbabwe</td>\n",
       "      <td>2021-03-27</td>\n",
       "      <td>36818.0</td>\n",
       "      <td>13.0</td>\n",
       "      <td>22.286</td>\n",
       "      <td>1519.0</td>\n",
       "      <td>1.0</td>\n",
       "      <td>1.286</td>\n",
       "      <td>...</td>\n",
       "      <td>1899.775</td>\n",
       "      <td>21.4</td>\n",
       "      <td>307.846</td>\n",
       "      <td>1.82</td>\n",
       "      <td>1.6</td>\n",
       "      <td>30.7</td>\n",
       "      <td>36.791</td>\n",
       "      <td>1.7</td>\n",
       "      <td>61.49</td>\n",
       "      <td>0.571</td>\n",
       "    </tr>\n",
       "  </tbody>\n",
       "</table>\n",
       "<p>76939 rows × 59 columns</p>\n",
       "</div>"
      ],
      "text/plain": [
       "      iso_code continent     location        date  total_cases  new_cases  \\\n",
       "0          AFG      Asia  Afghanistan  2020-02-24          1.0        1.0   \n",
       "1          AFG      Asia  Afghanistan  2020-02-25          1.0        0.0   \n",
       "2          AFG      Asia  Afghanistan  2020-02-26          1.0        0.0   \n",
       "3          AFG      Asia  Afghanistan  2020-02-27          1.0        0.0   \n",
       "4          AFG      Asia  Afghanistan  2020-02-28          1.0        0.0   \n",
       "...        ...       ...          ...         ...          ...        ...   \n",
       "77747      ZWE    Africa     Zimbabwe  2021-03-23      36717.0       33.0   \n",
       "77748      ZWE    Africa     Zimbabwe  2021-03-24      36749.0       32.0   \n",
       "77749      ZWE    Africa     Zimbabwe  2021-03-25      36778.0       29.0   \n",
       "77750      ZWE    Africa     Zimbabwe  2021-03-26      36805.0       27.0   \n",
       "77751      ZWE    Africa     Zimbabwe  2021-03-27      36818.0       13.0   \n",
       "\n",
       "       new_cases_smoothed  total_deaths  new_deaths  new_deaths_smoothed  ...  \\\n",
       "0                     NaN           NaN         NaN                  NaN  ...   \n",
       "1                     NaN           NaN         NaN                  NaN  ...   \n",
       "2                     NaN           NaN         NaN                  NaN  ...   \n",
       "3                     NaN           NaN         NaN                  NaN  ...   \n",
       "4                     NaN           NaN         NaN                  NaN  ...   \n",
       "...                   ...           ...         ...                  ...  ...   \n",
       "77747              26.000        1516.0         2.0                1.286  ...   \n",
       "77748              28.143        1516.0         0.0                1.143  ...   \n",
       "77749              23.857        1518.0         2.0                1.286  ...   \n",
       "77750              21.857        1518.0         0.0                1.143  ...   \n",
       "77751              22.286        1519.0         1.0                1.286  ...   \n",
       "\n",
       "       gdp_per_capita  extreme_poverty  cardiovasc_death_rate  \\\n",
       "0            1803.987              NaN                597.029   \n",
       "1            1803.987              NaN                597.029   \n",
       "2            1803.987              NaN                597.029   \n",
       "3            1803.987              NaN                597.029   \n",
       "4            1803.987              NaN                597.029   \n",
       "...               ...              ...                    ...   \n",
       "77747        1899.775             21.4                307.846   \n",
       "77748        1899.775             21.4                307.846   \n",
       "77749        1899.775             21.4                307.846   \n",
       "77750        1899.775             21.4                307.846   \n",
       "77751        1899.775             21.4                307.846   \n",
       "\n",
       "       diabetes_prevalence  female_smokers  male_smokers  \\\n",
       "0                     9.59             NaN           NaN   \n",
       "1                     9.59             NaN           NaN   \n",
       "2                     9.59             NaN           NaN   \n",
       "3                     9.59             NaN           NaN   \n",
       "4                     9.59             NaN           NaN   \n",
       "...                    ...             ...           ...   \n",
       "77747                 1.82             1.6          30.7   \n",
       "77748                 1.82             1.6          30.7   \n",
       "77749                 1.82             1.6          30.7   \n",
       "77750                 1.82             1.6          30.7   \n",
       "77751                 1.82             1.6          30.7   \n",
       "\n",
       "       handwashing_facilities  hospital_beds_per_thousand  life_expectancy  \\\n",
       "0                      37.746                         0.5            64.83   \n",
       "1                      37.746                         0.5            64.83   \n",
       "2                      37.746                         0.5            64.83   \n",
       "3                      37.746                         0.5            64.83   \n",
       "4                      37.746                         0.5            64.83   \n",
       "...                       ...                         ...              ...   \n",
       "77747                  36.791                         1.7            61.49   \n",
       "77748                  36.791                         1.7            61.49   \n",
       "77749                  36.791                         1.7            61.49   \n",
       "77750                  36.791                         1.7            61.49   \n",
       "77751                  36.791                         1.7            61.49   \n",
       "\n",
       "       human_development_index  \n",
       "0                        0.511  \n",
       "1                        0.511  \n",
       "2                        0.511  \n",
       "3                        0.511  \n",
       "4                        0.511  \n",
       "...                        ...  \n",
       "77747                    0.571  \n",
       "77748                    0.571  \n",
       "77749                    0.571  \n",
       "77750                    0.571  \n",
       "77751                    0.571  \n",
       "\n",
       "[76939 rows x 59 columns]"
      ]
     },
     "execution_count": 2,
     "metadata": {},
     "output_type": "execute_result"
    }
   ],
   "source": [
    "%%time\n",
    "import pandas as pd\n",
    "url = \"https://raw.githubusercontent.com/owid/covid-19-data/master/public/data/owid-covid-data.csv\"\n",
    "df1 = pd.read_csv(url)\n",
    "df2=df1[df1['location']!=\"Turkey\"]\n",
    "df=df2[df2['location']!=\"World\"]\n",
    "df"
   ]
  },
  {
   "cell_type": "code",
   "execution_count": 3,
   "metadata": {},
   "outputs": [],
   "source": [
    "SouthAmerica=df[df['continent']==\"South America\"]\n",
    "Asia = df[df['continent']==\"Asia\"]\n",
    "Africa = df[df['continent']==\"Africa\"]\n",
    "Europe = df[df['continent']==\"Europe\"]\n",
    "Oceania = df[df['continent']==\"Oceania\"]\n",
    "NorthAmerica = df[df['continent']==\"North America\"]"
   ]
  },
  {
   "cell_type": "code",
   "execution_count": 4,
   "metadata": {},
   "outputs": [],
   "source": [
    "Max_cases_NA = NorthAmerica['new_cases'].max()\n",
    "Max_cases_SA = SouthAmerica['new_cases'].max()\n",
    "Max_cases_Europe = Europe['new_cases'].max()\n",
    "Max_cases_Africa= Africa['new_cases'].max()\n",
    "Max_cases_Oceania = Oceania['new_cases'].max()\n",
    "Max_cases_Asia = Asia['new_cases'].max()"
   ]
  },
  {
   "cell_type": "code",
   "execution_count": 7,
   "metadata": {},
   "outputs": [
    {
     "name": "stderr",
     "output_type": "stream",
     "text": [
      "<ipython-input-7-f853744b3cf3>:3: SettingWithCopyWarning: \n",
      "A value is trying to be set on a copy of a slice from a DataFrame.\n",
      "Try using .loc[row_indexer,col_indexer] = value instead\n",
      "\n",
      "See the caveats in the documentation: https://pandas.pydata.org/pandas-docs/stable/user_guide/indexing.html#returning-a-view-versus-a-copy\n",
      "  Asia['Year'] = Asia.index.year\n",
      "<ipython-input-7-f853744b3cf3>:4: SettingWithCopyWarning: \n",
      "A value is trying to be set on a copy of a slice from a DataFrame.\n",
      "Try using .loc[row_indexer,col_indexer] = value instead\n",
      "\n",
      "See the caveats in the documentation: https://pandas.pydata.org/pandas-docs/stable/user_guide/indexing.html#returning-a-view-versus-a-copy\n",
      "  Asia['Month'] = Asia.index.month\n",
      "<ipython-input-7-f853744b3cf3>:5: SettingWithCopyWarning: \n",
      "A value is trying to be set on a copy of a slice from a DataFrame.\n",
      "Try using .loc[row_indexer,col_indexer] = value instead\n",
      "\n",
      "See the caveats in the documentation: https://pandas.pydata.org/pandas-docs/stable/user_guide/indexing.html#returning-a-view-versus-a-copy\n",
      "  Asia['Date'] = Asia.index.date\n",
      "<ipython-input-7-f853744b3cf3>:6: SettingWithCopyWarning: \n",
      "A value is trying to be set on a copy of a slice from a DataFrame.\n",
      "Try using .loc[row_indexer,col_indexer] = value instead\n",
      "\n",
      "See the caveats in the documentation: https://pandas.pydata.org/pandas-docs/stable/user_guide/indexing.html#returning-a-view-versus-a-copy\n",
      "  Asia['recover_cases']= Asia['new_cases']-Asia['new_deaths']\n"
     ]
    },
    {
     "data": {
      "text/plain": [
       "Text(0, 0.5, 'Date')"
      ]
     },
     "execution_count": 7,
     "metadata": {},
     "output_type": "execute_result"
    },
    {
     "data": {
      "image/png": "[encoded data removed]",
      "text/plain": [
       "<Figure size 432x288 with 1 Axes>"
      ]
     },
     "metadata": {
      "needs_background": "light"
     },
     "output_type": "display_data"
    }
   ],
   "source": [
    "import matplotlib.pyplot as plt\n",
    "Asia.index = pd.to_datetime(Asia.index)\n",
    "Asia['Year'] = Asia.index.year\n",
    "Asia['Month'] = Asia.index.month\n",
    "Asia['Date'] = Asia.index.date\n",
    "Asia['recover_cases']= Asia['new_cases']-Asia['new_deaths']\n",
    "ordered_df = Asia.sort_values('Month')\n",
    "my_range=range(1,len(Asia.index.month)+1)\n",
    "plt.hlines(y=my_range, xmin=ordered_df['recover_cases'], xmax=ordered_df['new_cases'], color='grey', alpha=0.4)\n",
    "plt.scatter(ordered_df['new_cases'], my_range, color='navy', alpha=0.8 , label='number of new cases')\n",
    "plt.scatter(ordered_df['recover_cases'], my_range, color='gold', alpha=1, label='number of recover case')\n",
    "plt.legend()\n",
    "# Add title and axis names\n",
    "plt.yticks(my_range, ordered_df['Month'])\n",
    "plt.title(\"Asia recover and confirm cases\", loc='left')\n",
    "plt.xlabel('recover and confirm cases')\n",
    "plt.ylabel('Date')"
   ]
  },
  {
   "cell_type": "code",
   "execution_count": 13,
   "metadata": {},
   "outputs": [
    {
     "name": "stderr",
     "output_type": "stream",
     "text": [
      "<ipython-input-13-59bb4be30247>:2: SettingWithCopyWarning: \n",
      "A value is trying to be set on a copy of a slice from a DataFrame.\n",
      "Try using .loc[row_indexer,col_indexer] = value instead\n",
      "\n",
      "See the caveats in the documentation: https://pandas.pydata.org/pandas-docs/stable/user_guide/indexing.html#returning-a-view-versus-a-copy\n",
      "  Africa['Year'] = Africa.index.year\n",
      "<ipython-input-13-59bb4be30247>:3: SettingWithCopyWarning: \n",
      "A value is trying to be set on a copy of a slice from a DataFrame.\n",
      "Try using .loc[row_indexer,col_indexer] = value instead\n",
      "\n",
      "See the caveats in the documentation: https://pandas.pydata.org/pandas-docs/stable/user_guide/indexing.html#returning-a-view-versus-a-copy\n",
      "  Africa['Month'] = Africa.index.month\n",
      "<ipython-input-13-59bb4be30247>:4: SettingWithCopyWarning: \n",
      "A value is trying to be set on a copy of a slice from a DataFrame.\n",
      "Try using .loc[row_indexer,col_indexer] = value instead\n",
      "\n",
      "See the caveats in the documentation: https://pandas.pydata.org/pandas-docs/stable/user_guide/indexing.html#returning-a-view-versus-a-copy\n",
      "  Africa['Date'] = Africa.index.date\n",
      "<ipython-input-13-59bb4be30247>:5: SettingWithCopyWarning: \n",
      "A value is trying to be set on a copy of a slice from a DataFrame.\n",
      "Try using .loc[row_indexer,col_indexer] = value instead\n",
      "\n",
      "See the caveats in the documentation: https://pandas.pydata.org/pandas-docs/stable/user_guide/indexing.html#returning-a-view-versus-a-copy\n",
      "  Africa['recover_cases']= Africa['new_cases']-Africa['new_deaths']\n"
     ]
    },
    {
     "data": {
      "text/plain": [
       "Text(0, 0.5, 'confirm cases')"
      ]
     },
     "execution_count": 13,
     "metadata": {},
     "output_type": "execute_result"
    },
    {
     "data": {
      "image/png": "[encoded data removed]",
      "text/plain": [
       "<Figure size 432x288 with 1 Axes>"
      ]
     },
     "metadata": {
      "needs_background": "light"
     },
     "output_type": "display_data"
    }
   ],
   "source": [
    "Africa.index = pd.to_datetime(Africa.index)\n",
    "Africa['Year'] = Africa.index.year\n",
    "Africa['Month'] = Africa.index.month\n",
    "Africa['Date'] = Africa.index.date\n",
    "Africa['recover_cases']= Africa['new_cases']-Africa['new_deaths']\n",
    "ordered_df_Africa = Africa.sort_values('Month')\n",
    "my_range_Africa=range(1,len(Africa.index.month)+1)\n",
    "plt.hlines(y=my_range_Africa, xmin=ordered_df_Africa['recover_cases'], xmax=ordered_df_Africa['new_cases'], color='grey', alpha=0.4)\n",
    "plt.scatter(ordered_df_Africa['new_cases'], my_range_Africa, color='navy', alpha=0.8 , label='new_cases')\n",
    "plt.scatter(ordered_df_Africa['recover_cases'], my_range_Africa, color='orange', alpha=1, label='number of recover people')\n",
    "plt.legend()\n",
    "# Add title and axis names\n",
    "plt.yticks(my_range_Africa, ordered_df_Africa['Month'])\n",
    "plt.title(\"Africa recover and confirm cases\", loc='left')\n",
    "plt.xlabel('recover cases')\n",
    "plt.ylabel('confirm cases')"
   ]
  },
  {
   "cell_type": "code",
   "execution_count": 20,
   "metadata": {},
   "outputs": [
    {
     "data": {
      "text/plain": [
       "Text(0, 0.5, 'date')"
      ]
     },
     "execution_count": 20,
     "metadata": {},
     "output_type": "execute_result"
    },
    {
     "data": {
      "image/png": "[encoded data removed]",
      "text/plain": [
       "<Figure size 432x288 with 1 Axes>"
      ]
     },
     "metadata": {
      "needs_background": "light"
     },
     "output_type": "display_data"
    }
   ],
   "source": [
    "Africa = Africa.set_index('Date')\n",
    "Africa.index = pd.to_datetime(Africa.index)\n",
    "# Add columns with year, month, and weekday name\n",
    "Africa['Year'] = Africa.index.year\n",
    "Africa['Month'] = Africa.index.month\n",
    "Africa['Date'] = Africa.index.date\n",
    "Africa['recover_cases'] = Africa['new_cases']-Africa['new_deaths']\n",
    "ordered_df_Africa = Africa.sort_values('Month')\n",
    "my_range_Africa=range(1,len(Africa.index.month)+1)\n",
    "plt.hlines(y=my_range_Africa, xmin=ordered_df_Africa['recover_cases'], xmax=ordered_df_Africa['new_cases'], color='grey', alpha=0.4)\n",
    "plt.scatter(ordered_df_Africa['new_cases'], my_range_Africa, color='navy', alpha=0.8 , label='new_cases')\n",
    "plt.scatter(ordered_df_Africa['recover_cases'], my_range_Africa, color='orange', alpha=1, label='number of recover people')\n",
    "plt.legend()\n",
    "# Add title and axis names\n",
    "plt.yticks(my_range_Africa, ordered_df_Africa['Month'])\n",
    "plt.title(\"Africa recover and confirm cases\", loc='left')\n",
    "plt.xlabel('confirm and recover cases')\n",
    "plt.ylabel('date')"
   ]
  },
  {
   "cell_type": "code",
   "execution_count": 13,
   "metadata": {},
   "outputs": [
    {
     "name": "stderr",
     "output_type": "stream",
     "text": [
      "<ipython-input-13-c35f64855e05>:3: SettingWithCopyWarning: \n",
      "A value is trying to be set on a copy of a slice from a DataFrame.\n",
      "Try using .loc[row_indexer,col_indexer] = value instead\n",
      "\n",
      "See the caveats in the documentation: https://pandas.pydata.org/pandas-docs/stable/user_guide/indexing.html#returning-a-view-versus-a-copy\n",
      "  SouthAmerica['Year'] = SouthAmerica.index.year\n",
      "<ipython-input-13-c35f64855e05>:4: SettingWithCopyWarning: \n",
      "A value is trying to be set on a copy of a slice from a DataFrame.\n",
      "Try using .loc[row_indexer,col_indexer] = value instead\n",
      "\n",
      "See the caveats in the documentation: https://pandas.pydata.org/pandas-docs/stable/user_guide/indexing.html#returning-a-view-versus-a-copy\n",
      "  SouthAmerica['Month'] = SouthAmerica.index.month\n",
      "<ipython-input-13-c35f64855e05>:5: SettingWithCopyWarning: \n",
      "A value is trying to be set on a copy of a slice from a DataFrame.\n",
      "Try using .loc[row_indexer,col_indexer] = value instead\n",
      "\n",
      "See the caveats in the documentation: https://pandas.pydata.org/pandas-docs/stable/user_guide/indexing.html#returning-a-view-versus-a-copy\n",
      "  SouthAmerica['Date'] = SouthAmerica.index.date\n",
      "<ipython-input-13-c35f64855e05>:6: SettingWithCopyWarning: \n",
      "A value is trying to be set on a copy of a slice from a DataFrame.\n",
      "Try using .loc[row_indexer,col_indexer] = value instead\n",
      "\n",
      "See the caveats in the documentation: https://pandas.pydata.org/pandas-docs/stable/user_guide/indexing.html#returning-a-view-versus-a-copy\n",
      "  SouthAmerica['recover_cases']= SouthAmerica['new_cases']-SouthAmerica['new_deaths']\n"
     ]
    },
    {
     "data": {
      "text/plain": [
       "Text(0, 0.5, 'date')"
      ]
     },
     "execution_count": 13,
     "metadata": {},
     "output_type": "execute_result"
    },
    {
     "data": {
      "image/png": "[encoded data removed]",
      "text/plain": [
       "<Figure size 432x288 with 1 Axes>"
      ]
     },
     "metadata": {
      "needs_background": "light"
     },
     "output_type": "display_data"
    }
   ],
   "source": [
    "SouthAmerica.index = pd.to_datetime(SouthAmerica.index)\n",
    "# Add columns with year, month, and weekday name\n",
    "SouthAmerica['Year'] = SouthAmerica.index.year\n",
    "SouthAmerica['Month'] = SouthAmerica.index.month\n",
    "SouthAmerica['Date'] = SouthAmerica.index.date\n",
    "SouthAmerica['recover_cases']= SouthAmerica['new_cases']-SouthAmerica['new_deaths']\n",
    "SouthAmerica=SouthAmerica[SouthAmerica['recover_cases']>0]\n",
    "SouthAmerica=SouthAmerica[SouthAmerica['new_cases']>0]\n",
    "ordered_df_SA = SouthAmerica.sort_values('Month')\n",
    "my_range_SA=range(1,len(SouthAmerica.index.month)+1)\n",
    "plt.hlines(y=my_range_SA, xmin=ordered_df_SA['recover_cases'], xmax=ordered_df_SA['new_cases'], color='grey', alpha=0.4)\n",
    "plt.scatter(ordered_df_SA['new_cases'], my_range_SA, color='navy', alpha=0.8 , label='new cases')\n",
    "plt.scatter(ordered_df_SA['recover_cases'], my_range_SA, color='green', alpha=1, label='recover cases')\n",
    "plt.legend()\n",
    "# Add title and axis names\n",
    "plt.yticks(my_range_SA, ordered_df_SA['Month'])\n",
    "plt.title(\"South America recover and confirm cases\", loc='left')\n",
    "plt.xlabel('confirm and recover cases')\n",
    "plt.ylabel('date')"
   ]
  },
  {
   "cell_type": "code",
   "execution_count": 12,
   "metadata": {},
   "outputs": [
    {
     "name": "stderr",
     "output_type": "stream",
     "text": [
      "<ipython-input-12-d015265e732e>:4: SettingWithCopyWarning: \n",
      "A value is trying to be set on a copy of a slice from a DataFrame.\n",
      "Try using .loc[row_indexer,col_indexer] = value instead\n",
      "\n",
      "See the caveats in the documentation: https://pandas.pydata.org/pandas-docs/stable/user_guide/indexing.html#returning-a-view-versus-a-copy\n",
      "  Europe['Year'] = Europe.index.year\n",
      "<ipython-input-12-d015265e732e>:5: SettingWithCopyWarning: \n",
      "A value is trying to be set on a copy of a slice from a DataFrame.\n",
      "Try using .loc[row_indexer,col_indexer] = value instead\n",
      "\n",
      "See the caveats in the documentation: https://pandas.pydata.org/pandas-docs/stable/user_guide/indexing.html#returning-a-view-versus-a-copy\n",
      "  Europe['Month'] = Europe.index.month\n",
      "<ipython-input-12-d015265e732e>:6: SettingWithCopyWarning: \n",
      "A value is trying to be set on a copy of a slice from a DataFrame.\n",
      "Try using .loc[row_indexer,col_indexer] = value instead\n",
      "\n",
      "See the caveats in the documentation: https://pandas.pydata.org/pandas-docs/stable/user_guide/indexing.html#returning-a-view-versus-a-copy\n",
      "  Europe['Date'] = Europe.index.date\n"
     ]
    },
    {
     "data": {
      "text/plain": [
       "Text(0, 0.5, 'date')"
      ]
     },
     "execution_count": 12,
     "metadata": {},
     "output_type": "execute_result"
    },
    {
     "data": {
      "image/png": "[encoded data removed]",
      "text/plain": [
       "<Figure size 432x288 with 1 Axes>"
      ]
     },
     "metadata": {
      "needs_background": "light"
     },
     "output_type": "display_data"
    }
   ],
   "source": [
    "#Europe = Europe.set_index('date')\n",
    "Europe.index = pd.to_datetime(Europe.index)\n",
    "# Add columns with year, month, and weekday name\n",
    "Europe['Year'] = Europe.index.year\n",
    "Europe['Month'] = Europe.index.month\n",
    "Europe['Date'] = Europe.index.date\n",
    "Europe=Europe[Europe['new_cases']>0]\n",
    "Europe['recover_cases']= Europe['new_cases'] - Europe['new_deaths']\n",
    "Europe=Europe[Europe['recover_cases']>0]\n",
    "ordered_df_Europe = Europe.sort_values('Month')\n",
    "my_range_Europe=range(1,len(Europe.index.month)+1)\n",
    "plt.hlines(y=my_range_Europe, xmin=ordered_df_Europe['recover_cases'], xmax=ordered_df_Europe['new_cases'], color='grey', alpha=0.4)\n",
    "plt.scatter(ordered_df_Europe['new_cases'], my_range_Europe, color='navy', alpha=0.8 , label='new_cases')\n",
    "plt.scatter(ordered_df_Europe['recover_cases'], my_range_Europe, color='pink', alpha=1, label='number of recover people')\n",
    "plt.legend()\n",
    "# Add title and axis names\n",
    "plt.yticks(my_range_Europe, ordered_df_Europe['Month'])\n",
    "plt.title(\"Europe recover and confirm cases\", loc='left')\n",
    "plt.xlabel('confirm and recover cases')\n",
    "plt.ylabel('date')"
   ]
  },
  {
   "cell_type": "code",
   "execution_count": 11,
   "metadata": {},
   "outputs": [
    {
     "name": "stderr",
     "output_type": "stream",
     "text": [
      "<ipython-input-11-94bb2c208975>:4: SettingWithCopyWarning: \n",
      "A value is trying to be set on a copy of a slice from a DataFrame.\n",
      "Try using .loc[row_indexer,col_indexer] = value instead\n",
      "\n",
      "See the caveats in the documentation: https://pandas.pydata.org/pandas-docs/stable/user_guide/indexing.html#returning-a-view-versus-a-copy\n",
      "  Oceania['Year'] = Oceania.index.year\n",
      "<ipython-input-11-94bb2c208975>:5: SettingWithCopyWarning: \n",
      "A value is trying to be set on a copy of a slice from a DataFrame.\n",
      "Try using .loc[row_indexer,col_indexer] = value instead\n",
      "\n",
      "See the caveats in the documentation: https://pandas.pydata.org/pandas-docs/stable/user_guide/indexing.html#returning-a-view-versus-a-copy\n",
      "  Oceania['Month'] = Oceania.index.month\n",
      "<ipython-input-11-94bb2c208975>:6: SettingWithCopyWarning: \n",
      "A value is trying to be set on a copy of a slice from a DataFrame.\n",
      "Try using .loc[row_indexer,col_indexer] = value instead\n",
      "\n",
      "See the caveats in the documentation: https://pandas.pydata.org/pandas-docs/stable/user_guide/indexing.html#returning-a-view-versus-a-copy\n",
      "  Oceania['Date'] = Oceania.index.date\n",
      "<ipython-input-11-94bb2c208975>:7: SettingWithCopyWarning: \n",
      "A value is trying to be set on a copy of a slice from a DataFrame.\n",
      "Try using .loc[row_indexer,col_indexer] = value instead\n",
      "\n",
      "See the caveats in the documentation: https://pandas.pydata.org/pandas-docs/stable/user_guide/indexing.html#returning-a-view-versus-a-copy\n",
      "  Oceania['recover_cases']= Oceania['new_cases']-Oceania['new_deaths']\n"
     ]
    },
    {
     "data": {
      "text/plain": [
       "Text(0, 0.5, 'date')"
      ]
     },
     "execution_count": 11,
     "metadata": {},
     "output_type": "execute_result"
    },
    {
     "data": {
      "image/png": "[encoded data removed]",
      "text/plain": [
       "<Figure size 432x288 with 1 Axes>"
      ]
     },
     "metadata": {
      "needs_background": "light"
     },
     "output_type": "display_data"
    }
   ],
   "source": [
    "#Oceania = Oceania.set_index('date')\n",
    "Oceania.index = pd.to_datetime(Oceania.index)\n",
    "# Add columns with year, month, and weekday name\n",
    "Oceania['Year'] = Oceania.index.year\n",
    "Oceania['Month'] = Oceania.index.month\n",
    "Oceania['Date'] = Oceania.index.date\n",
    "Oceania['recover_cases']= Oceania['new_cases']-Oceania['new_deaths']\n",
    "Oceania=Oceania[Oceania['recover_cases']>0]\n",
    "Oceania=Oceania[Oceania['new_cases']>0]\n",
    "ordered_df_Oceania = Oceania.sort_values('Month')\n",
    "my_range_Oceania=range(1,len(Oceania.index.month)+1)\n",
    "plt.hlines(y=my_range_Oceania, xmin=ordered_df_Oceania['recover_cases'], xmax=ordered_df_Oceania['new_cases'], color='grey', alpha=0.4)\n",
    "plt.scatter(ordered_df_Oceania['new_cases'], my_range_Oceania, color='navy', alpha=0.8 , label='new_cases')\n",
    "plt.scatter(ordered_df_Oceania['recover_cases'], my_range_Oceania, color='purple', alpha=1, label='number of recover people')\n",
    "plt.legend()\n",
    "# Add title and axis names\n",
    "plt.yticks(my_range_Oceania, ordered_df_Oceania['Month'])\n",
    "plt.title(\"Oceania recover and confirm cases\", loc='left')\n",
    "plt.xlabel('confirm and recover cases')\n",
    "plt.ylabel('date')"
   ]
  },
  {
   "cell_type": "code",
   "execution_count": 33,
   "metadata": {},
   "outputs": [
    {
     "data": {
      "text/html": [
       "<div>\n",
       "<style scoped>\n",
       "    .dataframe tbody tr th:only-of-type {\n",
       "        vertical-align: middle;\n",
       "    }\n",
       "\n",
       "    .dataframe tbody tr th {\n",
       "        vertical-align: top;\n",
       "    }\n",
       "\n",
       "    .dataframe thead th {\n",
       "        text-align: right;\n",
       "    }\n",
       "</style>\n",
       "<table border=\"1\" class=\"dataframe\">\n",
       "  <thead>\n",
       "    <tr style=\"text-align: right;\">\n",
       "      <th></th>\n",
       "      <th>iso_code</th>\n",
       "      <th>continent</th>\n",
       "      <th>location</th>\n",
       "      <th>total_cases</th>\n",
       "      <th>new_cases</th>\n",
       "      <th>new_cases_smoothed</th>\n",
       "      <th>total_deaths</th>\n",
       "      <th>new_deaths</th>\n",
       "      <th>new_deaths_smoothed</th>\n",
       "      <th>total_cases_per_million</th>\n",
       "      <th>...</th>\n",
       "      <th>female_smokers</th>\n",
       "      <th>male_smokers</th>\n",
       "      <th>handwashing_facilities</th>\n",
       "      <th>hospital_beds_per_thousand</th>\n",
       "      <th>life_expectancy</th>\n",
       "      <th>human_development_index</th>\n",
       "      <th>Year</th>\n",
       "      <th>Month</th>\n",
       "      <th>Date</th>\n",
       "      <th>recover_cases</th>\n",
       "    </tr>\n",
       "    <tr>\n",
       "      <th>date</th>\n",
       "      <th></th>\n",
       "      <th></th>\n",
       "      <th></th>\n",
       "      <th></th>\n",
       "      <th></th>\n",
       "      <th></th>\n",
       "      <th></th>\n",
       "      <th></th>\n",
       "      <th></th>\n",
       "      <th></th>\n",
       "      <th></th>\n",
       "      <th></th>\n",
       "      <th></th>\n",
       "      <th></th>\n",
       "      <th></th>\n",
       "      <th></th>\n",
       "      <th></th>\n",
       "      <th></th>\n",
       "      <th></th>\n",
       "      <th></th>\n",
       "      <th></th>\n",
       "    </tr>\n",
       "  </thead>\n",
       "  <tbody>\n",
       "    <tr>\n",
       "      <th>2021-02-04</th>\n",
       "      <td>AIA</td>\n",
       "      <td>North America</td>\n",
       "      <td>Anguilla</td>\n",
       "      <td>NaN</td>\n",
       "      <td>NaN</td>\n",
       "      <td>NaN</td>\n",
       "      <td>NaN</td>\n",
       "      <td>NaN</td>\n",
       "      <td>NaN</td>\n",
       "      <td>NaN</td>\n",
       "      <td>...</td>\n",
       "      <td>NaN</td>\n",
       "      <td>NaN</td>\n",
       "      <td>NaN</td>\n",
       "      <td>NaN</td>\n",
       "      <td>81.88</td>\n",
       "      <td>NaN</td>\n",
       "      <td>2021</td>\n",
       "      <td>2</td>\n",
       "      <td>2021-02-04</td>\n",
       "      <td>NaN</td>\n",
       "    </tr>\n",
       "    <tr>\n",
       "      <th>2021-02-05</th>\n",
       "      <td>AIA</td>\n",
       "      <td>North America</td>\n",
       "      <td>Anguilla</td>\n",
       "      <td>NaN</td>\n",
       "      <td>NaN</td>\n",
       "      <td>NaN</td>\n",
       "      <td>NaN</td>\n",
       "      <td>NaN</td>\n",
       "      <td>NaN</td>\n",
       "      <td>NaN</td>\n",
       "      <td>...</td>\n",
       "      <td>NaN</td>\n",
       "      <td>NaN</td>\n",
       "      <td>NaN</td>\n",
       "      <td>NaN</td>\n",
       "      <td>81.88</td>\n",
       "      <td>NaN</td>\n",
       "      <td>2021</td>\n",
       "      <td>2</td>\n",
       "      <td>2021-02-05</td>\n",
       "      <td>NaN</td>\n",
       "    </tr>\n",
       "    <tr>\n",
       "      <th>2021-02-06</th>\n",
       "      <td>AIA</td>\n",
       "      <td>North America</td>\n",
       "      <td>Anguilla</td>\n",
       "      <td>NaN</td>\n",
       "      <td>NaN</td>\n",
       "      <td>NaN</td>\n",
       "      <td>NaN</td>\n",
       "      <td>NaN</td>\n",
       "      <td>NaN</td>\n",
       "      <td>NaN</td>\n",
       "      <td>...</td>\n",
       "      <td>NaN</td>\n",
       "      <td>NaN</td>\n",
       "      <td>NaN</td>\n",
       "      <td>NaN</td>\n",
       "      <td>81.88</td>\n",
       "      <td>NaN</td>\n",
       "      <td>2021</td>\n",
       "      <td>2</td>\n",
       "      <td>2021-02-06</td>\n",
       "      <td>NaN</td>\n",
       "    </tr>\n",
       "    <tr>\n",
       "      <th>2021-02-07</th>\n",
       "      <td>AIA</td>\n",
       "      <td>North America</td>\n",
       "      <td>Anguilla</td>\n",
       "      <td>NaN</td>\n",
       "      <td>NaN</td>\n",
       "      <td>NaN</td>\n",
       "      <td>NaN</td>\n",
       "      <td>NaN</td>\n",
       "      <td>NaN</td>\n",
       "      <td>NaN</td>\n",
       "      <td>...</td>\n",
       "      <td>NaN</td>\n",
       "      <td>NaN</td>\n",
       "      <td>NaN</td>\n",
       "      <td>NaN</td>\n",
       "      <td>81.88</td>\n",
       "      <td>NaN</td>\n",
       "      <td>2021</td>\n",
       "      <td>2</td>\n",
       "      <td>2021-02-07</td>\n",
       "      <td>NaN</td>\n",
       "    </tr>\n",
       "    <tr>\n",
       "      <th>2021-02-08</th>\n",
       "      <td>AIA</td>\n",
       "      <td>North America</td>\n",
       "      <td>Anguilla</td>\n",
       "      <td>NaN</td>\n",
       "      <td>NaN</td>\n",
       "      <td>NaN</td>\n",
       "      <td>NaN</td>\n",
       "      <td>NaN</td>\n",
       "      <td>NaN</td>\n",
       "      <td>NaN</td>\n",
       "      <td>...</td>\n",
       "      <td>NaN</td>\n",
       "      <td>NaN</td>\n",
       "      <td>NaN</td>\n",
       "      <td>NaN</td>\n",
       "      <td>81.88</td>\n",
       "      <td>NaN</td>\n",
       "      <td>2021</td>\n",
       "      <td>2</td>\n",
       "      <td>2021-02-08</td>\n",
       "      <td>NaN</td>\n",
       "    </tr>\n",
       "    <tr>\n",
       "      <th>...</th>\n",
       "      <td>...</td>\n",
       "      <td>...</td>\n",
       "      <td>...</td>\n",
       "      <td>...</td>\n",
       "      <td>...</td>\n",
       "      <td>...</td>\n",
       "      <td>...</td>\n",
       "      <td>...</td>\n",
       "      <td>...</td>\n",
       "      <td>...</td>\n",
       "      <td>...</td>\n",
       "      <td>...</td>\n",
       "      <td>...</td>\n",
       "      <td>...</td>\n",
       "      <td>...</td>\n",
       "      <td>...</td>\n",
       "      <td>...</td>\n",
       "      <td>...</td>\n",
       "      <td>...</td>\n",
       "      <td>...</td>\n",
       "      <td>...</td>\n",
       "    </tr>\n",
       "    <tr>\n",
       "      <th>2021-03-20</th>\n",
       "      <td>USA</td>\n",
       "      <td>North America</td>\n",
       "      <td>United States</td>\n",
       "      <td>29785935.0</td>\n",
       "      <td>55449.0</td>\n",
       "      <td>55054.571</td>\n",
       "      <td>541920.0</td>\n",
       "      <td>776.0</td>\n",
       "      <td>1020.000</td>\n",
       "      <td>89986.999</td>\n",
       "      <td>...</td>\n",
       "      <td>19.1</td>\n",
       "      <td>24.6</td>\n",
       "      <td>NaN</td>\n",
       "      <td>2.77</td>\n",
       "      <td>78.86</td>\n",
       "      <td>0.926</td>\n",
       "      <td>2021</td>\n",
       "      <td>3</td>\n",
       "      <td>2021-03-20</td>\n",
       "      <td>54673.0</td>\n",
       "    </tr>\n",
       "    <tr>\n",
       "      <th>2021-03-21</th>\n",
       "      <td>USA</td>\n",
       "      <td>North America</td>\n",
       "      <td>United States</td>\n",
       "      <td>29819701.0</td>\n",
       "      <td>33766.0</td>\n",
       "      <td>54418.000</td>\n",
       "      <td>542363.0</td>\n",
       "      <td>443.0</td>\n",
       "      <td>1001.000</td>\n",
       "      <td>90089.011</td>\n",
       "      <td>...</td>\n",
       "      <td>19.1</td>\n",
       "      <td>24.6</td>\n",
       "      <td>NaN</td>\n",
       "      <td>2.77</td>\n",
       "      <td>78.86</td>\n",
       "      <td>0.926</td>\n",
       "      <td>2021</td>\n",
       "      <td>3</td>\n",
       "      <td>2021-03-21</td>\n",
       "      <td>33323.0</td>\n",
       "    </tr>\n",
       "    <tr>\n",
       "      <th>2021-03-22</th>\n",
       "      <td>USA</td>\n",
       "      <td>North America</td>\n",
       "      <td>United States</td>\n",
       "      <td>29871268.0</td>\n",
       "      <td>51567.0</td>\n",
       "      <td>53692.000</td>\n",
       "      <td>542922.0</td>\n",
       "      <td>559.0</td>\n",
       "      <td>974.857</td>\n",
       "      <td>90244.801</td>\n",
       "      <td>...</td>\n",
       "      <td>19.1</td>\n",
       "      <td>24.6</td>\n",
       "      <td>NaN</td>\n",
       "      <td>2.77</td>\n",
       "      <td>78.86</td>\n",
       "      <td>0.926</td>\n",
       "      <td>2021</td>\n",
       "      <td>3</td>\n",
       "      <td>2021-03-22</td>\n",
       "      <td>51008.0</td>\n",
       "    </tr>\n",
       "    <tr>\n",
       "      <th>2021-03-23</th>\n",
       "      <td>USA</td>\n",
       "      <td>North America</td>\n",
       "      <td>United States</td>\n",
       "      <td>29924892.0</td>\n",
       "      <td>53624.0</td>\n",
       "      <td>53646.857</td>\n",
       "      <td>543810.0</td>\n",
       "      <td>888.0</td>\n",
       "      <td>935.857</td>\n",
       "      <td>90406.806</td>\n",
       "      <td>...</td>\n",
       "      <td>19.1</td>\n",
       "      <td>24.6</td>\n",
       "      <td>NaN</td>\n",
       "      <td>2.77</td>\n",
       "      <td>78.86</td>\n",
       "      <td>0.926</td>\n",
       "      <td>2021</td>\n",
       "      <td>3</td>\n",
       "      <td>2021-03-23</td>\n",
       "      <td>52736.0</td>\n",
       "    </tr>\n",
       "    <tr>\n",
       "      <th>2021-03-24</th>\n",
       "      <td>USA</td>\n",
       "      <td>North America</td>\n",
       "      <td>United States</td>\n",
       "      <td>30011839.0</td>\n",
       "      <td>86947.0</td>\n",
       "      <td>57625.857</td>\n",
       "      <td>545264.0</td>\n",
       "      <td>1454.0</td>\n",
       "      <td>975.714</td>\n",
       "      <td>90669.483</td>\n",
       "      <td>...</td>\n",
       "      <td>19.1</td>\n",
       "      <td>24.6</td>\n",
       "      <td>NaN</td>\n",
       "      <td>2.77</td>\n",
       "      <td>78.86</td>\n",
       "      <td>0.926</td>\n",
       "      <td>2021</td>\n",
       "      <td>3</td>\n",
       "      <td>2021-03-24</td>\n",
       "      <td>85493.0</td>\n",
       "    </tr>\n",
       "  </tbody>\n",
       "</table>\n",
       "<p>9159 rows × 62 columns</p>\n",
       "</div>"
      ],
      "text/plain": [
       "           iso_code      continent       location  total_cases  new_cases  \\\n",
       "date                                                                        \n",
       "2021-02-04      AIA  North America       Anguilla          NaN        NaN   \n",
       "2021-02-05      AIA  North America       Anguilla          NaN        NaN   \n",
       "2021-02-06      AIA  North America       Anguilla          NaN        NaN   \n",
       "2021-02-07      AIA  North America       Anguilla          NaN        NaN   \n",
       "2021-02-08      AIA  North America       Anguilla          NaN        NaN   \n",
       "...             ...            ...            ...          ...        ...   \n",
       "2021-03-20      USA  North America  United States   29785935.0    55449.0   \n",
       "2021-03-21      USA  North America  United States   29819701.0    33766.0   \n",
       "2021-03-22      USA  North America  United States   29871268.0    51567.0   \n",
       "2021-03-23      USA  North America  United States   29924892.0    53624.0   \n",
       "2021-03-24      USA  North America  United States   30011839.0    86947.0   \n",
       "\n",
       "            new_cases_smoothed  total_deaths  new_deaths  new_deaths_smoothed  \\\n",
       "date                                                                            \n",
       "2021-02-04                 NaN           NaN         NaN                  NaN   \n",
       "2021-02-05                 NaN           NaN         NaN                  NaN   \n",
       "2021-02-06                 NaN           NaN         NaN                  NaN   \n",
       "2021-02-07                 NaN           NaN         NaN                  NaN   \n",
       "2021-02-08                 NaN           NaN         NaN                  NaN   \n",
       "...                        ...           ...         ...                  ...   \n",
       "2021-03-20           55054.571      541920.0       776.0             1020.000   \n",
       "2021-03-21           54418.000      542363.0       443.0             1001.000   \n",
       "2021-03-22           53692.000      542922.0       559.0              974.857   \n",
       "2021-03-23           53646.857      543810.0       888.0              935.857   \n",
       "2021-03-24           57625.857      545264.0      1454.0              975.714   \n",
       "\n",
       "            total_cases_per_million  ...  female_smokers  male_smokers  \\\n",
       "date                                 ...                                 \n",
       "2021-02-04                      NaN  ...             NaN           NaN   \n",
       "2021-02-05                      NaN  ...             NaN           NaN   \n",
       "2021-02-06                      NaN  ...             NaN           NaN   \n",
       "2021-02-07                      NaN  ...             NaN           NaN   \n",
       "2021-02-08                      NaN  ...             NaN           NaN   \n",
       "...                             ...  ...             ...           ...   \n",
       "2021-03-20                89986.999  ...            19.1          24.6   \n",
       "2021-03-21                90089.011  ...            19.1          24.6   \n",
       "2021-03-22                90244.801  ...            19.1          24.6   \n",
       "2021-03-23                90406.806  ...            19.1          24.6   \n",
       "2021-03-24                90669.483  ...            19.1          24.6   \n",
       "\n",
       "            handwashing_facilities  hospital_beds_per_thousand  \\\n",
       "date                                                             \n",
       "2021-02-04                     NaN                         NaN   \n",
       "2021-02-05                     NaN                         NaN   \n",
       "2021-02-06                     NaN                         NaN   \n",
       "2021-02-07                     NaN                         NaN   \n",
       "2021-02-08                     NaN                         NaN   \n",
       "...                            ...                         ...   \n",
       "2021-03-20                     NaN                        2.77   \n",
       "2021-03-21                     NaN                        2.77   \n",
       "2021-03-22                     NaN                        2.77   \n",
       "2021-03-23                     NaN                        2.77   \n",
       "2021-03-24                     NaN                        2.77   \n",
       "\n",
       "            life_expectancy  human_development_index  Year  Month        Date  \\\n",
       "date                                                                            \n",
       "2021-02-04            81.88                      NaN  2021      2  2021-02-04   \n",
       "2021-02-05            81.88                      NaN  2021      2  2021-02-05   \n",
       "2021-02-06            81.88                      NaN  2021      2  2021-02-06   \n",
       "2021-02-07            81.88                      NaN  2021      2  2021-02-07   \n",
       "2021-02-08            81.88                      NaN  2021      2  2021-02-08   \n",
       "...                     ...                      ...   ...    ...         ...   \n",
       "2021-03-20            78.86                    0.926  2021      3  2021-03-20   \n",
       "2021-03-21            78.86                    0.926  2021      3  2021-03-21   \n",
       "2021-03-22            78.86                    0.926  2021      3  2021-03-22   \n",
       "2021-03-23            78.86                    0.926  2021      3  2021-03-23   \n",
       "2021-03-24            78.86                    0.926  2021      3  2021-03-24   \n",
       "\n",
       "            recover_cases  \n",
       "date                       \n",
       "2021-02-04            NaN  \n",
       "2021-02-05            NaN  \n",
       "2021-02-06            NaN  \n",
       "2021-02-07            NaN  \n",
       "2021-02-08            NaN  \n",
       "...                   ...  \n",
       "2021-03-20        54673.0  \n",
       "2021-03-21        33323.0  \n",
       "2021-03-22        51008.0  \n",
       "2021-03-23        52736.0  \n",
       "2021-03-24        85493.0  \n",
       "\n",
       "[9159 rows x 62 columns]"
      ]
     },
     "execution_count": 33,
     "metadata": {},
     "output_type": "execute_result"
    }
   ],
   "source": [
    "NorthAmerica = NorthAmerica.set_index('date')\n",
    "NorthAmerica.index = pd.to_datetime(NorthAmerica.index)\n",
    "# Add columns with year, month, and weekday name\n",
    "NorthAmerica['Year'] = NorthAmerica.index.year\n",
    "NorthAmerica['Month'] = NorthAmerica.index.month\n",
    "NorthAmerica['Date'] = NorthAmerica.index.date\n",
    "NorthAmerica['recover_cases']= NorthAmerica['new_cases'] - NorthAmerica['new_deaths']\n",
    "NorthAmerica"
   ]
  },
  {
   "cell_type": "code",
   "execution_count": 34,
   "metadata": {},
   "outputs": [
    {
     "data": {
      "text/plain": [
       "Text(0, 0.5, 'date')"
      ]
     },
     "execution_count": 34,
     "metadata": {},
     "output_type": "execute_result"
    },
    {
     "data": {
      "image/png": "[encoded data removed]",
      "text/plain": [
       "<Figure size 432x288 with 1 Axes>"
      ]
     },
     "metadata": {
      "needs_background": "light"
     },
     "output_type": "display_data"
    }
   ],
   "source": [
    "ordered_df_NA = NorthAmerica.sort_values('date')\n",
    "my_range_NA= range(1,len(NorthAmerica.index)+1)\n",
    "plt.hlines(y=my_range_NA, xmin=ordered_df_NA['recover_cases'], xmax=ordered_df_NA['new_cases'], color='grey', alpha=0.4)\n",
    "plt.scatter(ordered_df_NA['new_cases'], my_range_NA, color='navy', alpha=0.9 , label='new_cases')\n",
    "plt.scatter(ordered_df_NA['recover_cases'], my_range_NA, color='brown', alpha=1, label='number of recover people')\n",
    "plt.legend()\n",
    "# Add title and axis names\n",
    "plt.yticks(my_range_NA, ordered_df_NA['Month'])\n",
    "plt.title(\"North America recover and confirm cases\", loc='left')\n",
    "plt.xlabel('confirm and recover cases')\n",
    "plt.ylabel('date')\n",
    "#plt.savefig(\"foo.png\", bbox_inches='tight', dpi=800)\n"
   ]
  },
  {
   "cell_type": "code",
   "execution_count": 40,
   "metadata": {},
   "outputs": [
    {
     "data": {
      "text/plain": [
       "<Figure size 432x288 with 0 Axes>"
      ]
     },
     "metadata": {},
     "output_type": "display_data"
    }
   ],
   "source": [
    "plt.savefig(\"foo.png\", bbox_inches='tight', dpi=800)"
   ]
  },
  {
   "cell_type": "code",
   "execution_count": 25,
   "metadata": {},
   "outputs": [
    {
     "data": {
      "text/plain": [
       "Text(0, 0.5, 'date')"
      ]
     },
     "execution_count": 25,
     "metadata": {},
     "output_type": "execute_result"
    },
    {
     "data": {
      "image/png": "[encoded data removed]",
      "text/plain": [
       "<Figure size 432x288 with 1 Axes>"
      ]
     },
     "metadata": {
      "needs_background": "light"
     },
     "output_type": "display_data"
    }
   ],
   "source": [
    "Asia.index = pd.to_datetime(Asia.index)\n",
    "# Add columns with year, month, and weekday name\n",
    "Asia['Year'] = Asia.index.year\n",
    "Asia['Month'] = Asia.index.month\n",
    "Asia['Date'] = Asia.index.date\n",
    "Asia['recover_cases']= Asia['new_cases']-Asia['new_deaths']\n",
    "Asia=Asia[Asia['recover_cases']>0]\n",
    "Asia=Asia[Asia['new_cases']>0]\n",
    "ordered_df_Asia = Asia.sort_values('Month')\n",
    "my_range_Asia=range(1,len(Asia.index.month)+1)\n",
    "plt.hlines(y=my_range_Asia, xmin=ordered_df_Asia['recover_cases'], xmax=ordered_df_Asia['new_cases'], color='grey', alpha=0.4)\n",
    "plt.scatter(ordered_df_Asia['new_cases'], my_range_Asia, color='navy', alpha=0.8 , label='number of new cases')\n",
    "plt.scatter(ordered_df_Asia['recover_cases'], my_range_Asia, color='gold', alpha=1, label='number of recover case')\n",
    "plt.legend()\n",
    "# Add title and axis names\n",
    "plt.yticks(my_range_Asia, ordered_df_Asia['Month'])\n",
    "plt.title(\"Asia recover and confirm cases\", loc='left')\n",
    "plt.xlabel('confirm and recover cases')\n",
    "plt.ylabel('date')"
   ]
  },
  {
   "cell_type": "code",
   "execution_count": 17,
   "metadata": {},
   "outputs": [],
   "source": [
    "Africa\n",
    "Africa['recover_cases']=Africa['new_cases']-Africa['new_deaths']"
   ]
  },
  {
   "cell_type": "code",
   "execution_count": 18,
   "metadata": {},
   "outputs": [
    {
     "data": {
      "text/html": [
       "<div>\n",
       "<style scoped>\n",
       "    .dataframe tbody tr th:only-of-type {\n",
       "        vertical-align: middle;\n",
       "    }\n",
       "\n",
       "    .dataframe tbody tr th {\n",
       "        vertical-align: top;\n",
       "    }\n",
       "\n",
       "    .dataframe thead th {\n",
       "        text-align: right;\n",
       "    }\n",
       "</style>\n",
       "<table border=\"1\" class=\"dataframe\">\n",
       "  <thead>\n",
       "    <tr style=\"text-align: right;\">\n",
       "      <th></th>\n",
       "      <th>iso_code</th>\n",
       "      <th>continent</th>\n",
       "      <th>location</th>\n",
       "      <th>total_cases</th>\n",
       "      <th>new_cases</th>\n",
       "      <th>new_cases_smoothed</th>\n",
       "      <th>total_deaths</th>\n",
       "      <th>new_deaths</th>\n",
       "      <th>new_deaths_smoothed</th>\n",
       "      <th>total_cases_per_million</th>\n",
       "      <th>...</th>\n",
       "      <th>female_smokers</th>\n",
       "      <th>male_smokers</th>\n",
       "      <th>handwashing_facilities</th>\n",
       "      <th>hospital_beds_per_thousand</th>\n",
       "      <th>life_expectancy</th>\n",
       "      <th>human_development_index</th>\n",
       "      <th>Year</th>\n",
       "      <th>Month</th>\n",
       "      <th>Date</th>\n",
       "      <th>recover_cases</th>\n",
       "    </tr>\n",
       "    <tr>\n",
       "      <th>date</th>\n",
       "      <th></th>\n",
       "      <th></th>\n",
       "      <th></th>\n",
       "      <th></th>\n",
       "      <th></th>\n",
       "      <th></th>\n",
       "      <th></th>\n",
       "      <th></th>\n",
       "      <th></th>\n",
       "      <th></th>\n",
       "      <th></th>\n",
       "      <th></th>\n",
       "      <th></th>\n",
       "      <th></th>\n",
       "      <th></th>\n",
       "      <th></th>\n",
       "      <th></th>\n",
       "      <th></th>\n",
       "      <th></th>\n",
       "      <th></th>\n",
       "      <th></th>\n",
       "    </tr>\n",
       "  </thead>\n",
       "  <tbody>\n",
       "    <tr>\n",
       "      <th>2020-02-25</th>\n",
       "      <td>DZA</td>\n",
       "      <td>Africa</td>\n",
       "      <td>Algeria</td>\n",
       "      <td>1.0</td>\n",
       "      <td>1.0</td>\n",
       "      <td>NaN</td>\n",
       "      <td>NaN</td>\n",
       "      <td>NaN</td>\n",
       "      <td>NaN</td>\n",
       "      <td>0.023</td>\n",
       "      <td>...</td>\n",
       "      <td>0.7</td>\n",
       "      <td>30.4</td>\n",
       "      <td>83.741</td>\n",
       "      <td>1.9</td>\n",
       "      <td>76.88</td>\n",
       "      <td>0.748</td>\n",
       "      <td>2020</td>\n",
       "      <td>2</td>\n",
       "      <td>2020-02-25</td>\n",
       "      <td>NaN</td>\n",
       "    </tr>\n",
       "    <tr>\n",
       "      <th>2020-02-26</th>\n",
       "      <td>DZA</td>\n",
       "      <td>Africa</td>\n",
       "      <td>Algeria</td>\n",
       "      <td>1.0</td>\n",
       "      <td>0.0</td>\n",
       "      <td>NaN</td>\n",
       "      <td>NaN</td>\n",
       "      <td>NaN</td>\n",
       "      <td>NaN</td>\n",
       "      <td>0.023</td>\n",
       "      <td>...</td>\n",
       "      <td>0.7</td>\n",
       "      <td>30.4</td>\n",
       "      <td>83.741</td>\n",
       "      <td>1.9</td>\n",
       "      <td>76.88</td>\n",
       "      <td>0.748</td>\n",
       "      <td>2020</td>\n",
       "      <td>2</td>\n",
       "      <td>2020-02-26</td>\n",
       "      <td>NaN</td>\n",
       "    </tr>\n",
       "    <tr>\n",
       "      <th>2020-02-27</th>\n",
       "      <td>DZA</td>\n",
       "      <td>Africa</td>\n",
       "      <td>Algeria</td>\n",
       "      <td>1.0</td>\n",
       "      <td>0.0</td>\n",
       "      <td>NaN</td>\n",
       "      <td>NaN</td>\n",
       "      <td>NaN</td>\n",
       "      <td>NaN</td>\n",
       "      <td>0.023</td>\n",
       "      <td>...</td>\n",
       "      <td>0.7</td>\n",
       "      <td>30.4</td>\n",
       "      <td>83.741</td>\n",
       "      <td>1.9</td>\n",
       "      <td>76.88</td>\n",
       "      <td>0.748</td>\n",
       "      <td>2020</td>\n",
       "      <td>2</td>\n",
       "      <td>2020-02-27</td>\n",
       "      <td>NaN</td>\n",
       "    </tr>\n",
       "    <tr>\n",
       "      <th>2020-02-28</th>\n",
       "      <td>DZA</td>\n",
       "      <td>Africa</td>\n",
       "      <td>Algeria</td>\n",
       "      <td>1.0</td>\n",
       "      <td>0.0</td>\n",
       "      <td>NaN</td>\n",
       "      <td>NaN</td>\n",
       "      <td>NaN</td>\n",
       "      <td>NaN</td>\n",
       "      <td>0.023</td>\n",
       "      <td>...</td>\n",
       "      <td>0.7</td>\n",
       "      <td>30.4</td>\n",
       "      <td>83.741</td>\n",
       "      <td>1.9</td>\n",
       "      <td>76.88</td>\n",
       "      <td>0.748</td>\n",
       "      <td>2020</td>\n",
       "      <td>2</td>\n",
       "      <td>2020-02-28</td>\n",
       "      <td>NaN</td>\n",
       "    </tr>\n",
       "    <tr>\n",
       "      <th>2020-02-29</th>\n",
       "      <td>DZA</td>\n",
       "      <td>Africa</td>\n",
       "      <td>Algeria</td>\n",
       "      <td>1.0</td>\n",
       "      <td>0.0</td>\n",
       "      <td>NaN</td>\n",
       "      <td>NaN</td>\n",
       "      <td>NaN</td>\n",
       "      <td>NaN</td>\n",
       "      <td>0.023</td>\n",
       "      <td>...</td>\n",
       "      <td>0.7</td>\n",
       "      <td>30.4</td>\n",
       "      <td>83.741</td>\n",
       "      <td>1.9</td>\n",
       "      <td>76.88</td>\n",
       "      <td>0.748</td>\n",
       "      <td>2020</td>\n",
       "      <td>2</td>\n",
       "      <td>2020-02-29</td>\n",
       "      <td>NaN</td>\n",
       "    </tr>\n",
       "    <tr>\n",
       "      <th>...</th>\n",
       "      <td>...</td>\n",
       "      <td>...</td>\n",
       "      <td>...</td>\n",
       "      <td>...</td>\n",
       "      <td>...</td>\n",
       "      <td>...</td>\n",
       "      <td>...</td>\n",
       "      <td>...</td>\n",
       "      <td>...</td>\n",
       "      <td>...</td>\n",
       "      <td>...</td>\n",
       "      <td>...</td>\n",
       "      <td>...</td>\n",
       "      <td>...</td>\n",
       "      <td>...</td>\n",
       "      <td>...</td>\n",
       "      <td>...</td>\n",
       "      <td>...</td>\n",
       "      <td>...</td>\n",
       "      <td>...</td>\n",
       "      <td>...</td>\n",
       "    </tr>\n",
       "    <tr>\n",
       "      <th>2021-03-20</th>\n",
       "      <td>ZWE</td>\n",
       "      <td>Africa</td>\n",
       "      <td>Zimbabwe</td>\n",
       "      <td>36662.0</td>\n",
       "      <td>10.0</td>\n",
       "      <td>27.286</td>\n",
       "      <td>1510.0</td>\n",
       "      <td>0.0</td>\n",
       "      <td>1.286</td>\n",
       "      <td>2466.674</td>\n",
       "      <td>...</td>\n",
       "      <td>1.6</td>\n",
       "      <td>30.7</td>\n",
       "      <td>36.791</td>\n",
       "      <td>1.7</td>\n",
       "      <td>61.49</td>\n",
       "      <td>0.571</td>\n",
       "      <td>2021</td>\n",
       "      <td>3</td>\n",
       "      <td>2021-03-20</td>\n",
       "      <td>10.0</td>\n",
       "    </tr>\n",
       "    <tr>\n",
       "      <th>2021-03-21</th>\n",
       "      <td>ZWE</td>\n",
       "      <td>Africa</td>\n",
       "      <td>Zimbabwe</td>\n",
       "      <td>36665.0</td>\n",
       "      <td>3.0</td>\n",
       "      <td>25.857</td>\n",
       "      <td>1512.0</td>\n",
       "      <td>2.0</td>\n",
       "      <td>1.286</td>\n",
       "      <td>2466.876</td>\n",
       "      <td>...</td>\n",
       "      <td>1.6</td>\n",
       "      <td>30.7</td>\n",
       "      <td>36.791</td>\n",
       "      <td>1.7</td>\n",
       "      <td>61.49</td>\n",
       "      <td>0.571</td>\n",
       "      <td>2021</td>\n",
       "      <td>3</td>\n",
       "      <td>2021-03-21</td>\n",
       "      <td>1.0</td>\n",
       "    </tr>\n",
       "    <tr>\n",
       "      <th>2021-03-22</th>\n",
       "      <td>ZWE</td>\n",
       "      <td>Africa</td>\n",
       "      <td>Zimbabwe</td>\n",
       "      <td>36684.0</td>\n",
       "      <td>19.0</td>\n",
       "      <td>25.714</td>\n",
       "      <td>1514.0</td>\n",
       "      <td>2.0</td>\n",
       "      <td>1.429</td>\n",
       "      <td>2468.154</td>\n",
       "      <td>...</td>\n",
       "      <td>1.6</td>\n",
       "      <td>30.7</td>\n",
       "      <td>36.791</td>\n",
       "      <td>1.7</td>\n",
       "      <td>61.49</td>\n",
       "      <td>0.571</td>\n",
       "      <td>2021</td>\n",
       "      <td>3</td>\n",
       "      <td>2021-03-22</td>\n",
       "      <td>17.0</td>\n",
       "    </tr>\n",
       "    <tr>\n",
       "      <th>2021-03-23</th>\n",
       "      <td>ZWE</td>\n",
       "      <td>Africa</td>\n",
       "      <td>Zimbabwe</td>\n",
       "      <td>36717.0</td>\n",
       "      <td>33.0</td>\n",
       "      <td>26.000</td>\n",
       "      <td>1516.0</td>\n",
       "      <td>2.0</td>\n",
       "      <td>1.286</td>\n",
       "      <td>2470.375</td>\n",
       "      <td>...</td>\n",
       "      <td>1.6</td>\n",
       "      <td>30.7</td>\n",
       "      <td>36.791</td>\n",
       "      <td>1.7</td>\n",
       "      <td>61.49</td>\n",
       "      <td>0.571</td>\n",
       "      <td>2021</td>\n",
       "      <td>3</td>\n",
       "      <td>2021-03-23</td>\n",
       "      <td>31.0</td>\n",
       "    </tr>\n",
       "    <tr>\n",
       "      <th>2021-03-24</th>\n",
       "      <td>ZWE</td>\n",
       "      <td>Africa</td>\n",
       "      <td>Zimbabwe</td>\n",
       "      <td>36749.0</td>\n",
       "      <td>32.0</td>\n",
       "      <td>28.143</td>\n",
       "      <td>1516.0</td>\n",
       "      <td>0.0</td>\n",
       "      <td>1.143</td>\n",
       "      <td>2472.528</td>\n",
       "      <td>...</td>\n",
       "      <td>1.6</td>\n",
       "      <td>30.7</td>\n",
       "      <td>36.791</td>\n",
       "      <td>1.7</td>\n",
       "      <td>61.49</td>\n",
       "      <td>0.571</td>\n",
       "      <td>2021</td>\n",
       "      <td>3</td>\n",
       "      <td>2021-03-24</td>\n",
       "      <td>32.0</td>\n",
       "    </tr>\n",
       "  </tbody>\n",
       "</table>\n",
       "<p>20232 rows × 62 columns</p>\n",
       "</div>"
      ],
      "text/plain": [
       "           iso_code continent  location  total_cases  new_cases  \\\n",
       "date                                                              \n",
       "2020-02-25      DZA    Africa   Algeria          1.0        1.0   \n",
       "2020-02-26      DZA    Africa   Algeria          1.0        0.0   \n",
       "2020-02-27      DZA    Africa   Algeria          1.0        0.0   \n",
       "2020-02-28      DZA    Africa   Algeria          1.0        0.0   \n",
       "2020-02-29      DZA    Africa   Algeria          1.0        0.0   \n",
       "...             ...       ...       ...          ...        ...   \n",
       "2021-03-20      ZWE    Africa  Zimbabwe      36662.0       10.0   \n",
       "2021-03-21      ZWE    Africa  Zimbabwe      36665.0        3.0   \n",
       "2021-03-22      ZWE    Africa  Zimbabwe      36684.0       19.0   \n",
       "2021-03-23      ZWE    Africa  Zimbabwe      36717.0       33.0   \n",
       "2021-03-24      ZWE    Africa  Zimbabwe      36749.0       32.0   \n",
       "\n",
       "            new_cases_smoothed  total_deaths  new_deaths  new_deaths_smoothed  \\\n",
       "date                                                                            \n",
       "2020-02-25                 NaN           NaN         NaN                  NaN   \n",
       "2020-02-26                 NaN           NaN         NaN                  NaN   \n",
       "2020-02-27                 NaN           NaN         NaN                  NaN   \n",
       "2020-02-28                 NaN           NaN         NaN                  NaN   \n",
       "2020-02-29                 NaN           NaN         NaN                  NaN   \n",
       "...                        ...           ...         ...                  ...   \n",
       "2021-03-20              27.286        1510.0         0.0                1.286   \n",
       "2021-03-21              25.857        1512.0         2.0                1.286   \n",
       "2021-03-22              25.714        1514.0         2.0                1.429   \n",
       "2021-03-23              26.000        1516.0         2.0                1.286   \n",
       "2021-03-24              28.143        1516.0         0.0                1.143   \n",
       "\n",
       "            total_cases_per_million  ...  female_smokers  male_smokers  \\\n",
       "date                                 ...                                 \n",
       "2020-02-25                    0.023  ...             0.7          30.4   \n",
       "2020-02-26                    0.023  ...             0.7          30.4   \n",
       "2020-02-27                    0.023  ...             0.7          30.4   \n",
       "2020-02-28                    0.023  ...             0.7          30.4   \n",
       "2020-02-29                    0.023  ...             0.7          30.4   \n",
       "...                             ...  ...             ...           ...   \n",
       "2021-03-20                 2466.674  ...             1.6          30.7   \n",
       "2021-03-21                 2466.876  ...             1.6          30.7   \n",
       "2021-03-22                 2468.154  ...             1.6          30.7   \n",
       "2021-03-23                 2470.375  ...             1.6          30.7   \n",
       "2021-03-24                 2472.528  ...             1.6          30.7   \n",
       "\n",
       "            handwashing_facilities  hospital_beds_per_thousand  \\\n",
       "date                                                             \n",
       "2020-02-25                  83.741                         1.9   \n",
       "2020-02-26                  83.741                         1.9   \n",
       "2020-02-27                  83.741                         1.9   \n",
       "2020-02-28                  83.741                         1.9   \n",
       "2020-02-29                  83.741                         1.9   \n",
       "...                            ...                         ...   \n",
       "2021-03-20                  36.791                         1.7   \n",
       "2021-03-21                  36.791                         1.7   \n",
       "2021-03-22                  36.791                         1.7   \n",
       "2021-03-23                  36.791                         1.7   \n",
       "2021-03-24                  36.791                         1.7   \n",
       "\n",
       "            life_expectancy  human_development_index  Year  Month        Date  \\\n",
       "date                                                                            \n",
       "2020-02-25            76.88                    0.748  2020      2  2020-02-25   \n",
       "2020-02-26            76.88                    0.748  2020      2  2020-02-26   \n",
       "2020-02-27            76.88                    0.748  2020      2  2020-02-27   \n",
       "2020-02-28            76.88                    0.748  2020      2  2020-02-28   \n",
       "2020-02-29            76.88                    0.748  2020      2  2020-02-29   \n",
       "...                     ...                      ...   ...    ...         ...   \n",
       "2021-03-20            61.49                    0.571  2021      3  2021-03-20   \n",
       "2021-03-21            61.49                    0.571  2021      3  2021-03-21   \n",
       "2021-03-22            61.49                    0.571  2021      3  2021-03-22   \n",
       "2021-03-23            61.49                    0.571  2021      3  2021-03-23   \n",
       "2021-03-24            61.49                    0.571  2021      3  2021-03-24   \n",
       "\n",
       "            recover_cases  \n",
       "date                       \n",
       "2020-02-25            NaN  \n",
       "2020-02-26            NaN  \n",
       "2020-02-27            NaN  \n",
       "2020-02-28            NaN  \n",
       "2020-02-29            NaN  \n",
       "...                   ...  \n",
       "2021-03-20           10.0  \n",
       "2021-03-21            1.0  \n",
       "2021-03-22           17.0  \n",
       "2021-03-23           31.0  \n",
       "2021-03-24           32.0  \n",
       "\n",
       "[20232 rows x 62 columns]"
      ]
     },
     "execution_count": 18,
     "metadata": {},
     "output_type": "execute_result"
    }
   ],
   "source": [
    "Africa"
   ]
  },
  {
   "cell_type": "code",
   "execution_count": 5,
   "metadata": {},
   "outputs": [
    {
     "data": {
      "text/plain": [
       "116580104.0"
      ]
     },
     "execution_count": 5,
     "metadata": {},
     "output_type": "execute_result"
    }
   ],
   "source": [
    "Asia['new_vaccinations'].sum()"
   ]
  },
  {
   "cell_type": "code",
   "execution_count": 6,
   "metadata": {},
   "outputs": [
    {
     "data": {
      "text/plain": [
       "140299590.0"
      ]
     },
     "execution_count": 6,
     "metadata": {},
     "output_type": "execute_result"
    }
   ],
   "source": [
    "NorthAmerica['new_vaccinations'].sum()"
   ]
  },
  {
   "cell_type": "code",
   "execution_count": 7,
   "metadata": {},
   "outputs": [
    {
     "data": {
      "text/plain": [
       "6929212.0"
      ]
     },
     "execution_count": 7,
     "metadata": {},
     "output_type": "execute_result"
    }
   ],
   "source": [
    "Africa['new_vaccinations'].sum()"
   ]
  },
  {
   "cell_type": "code",
   "execution_count": 8,
   "metadata": {},
   "outputs": [
    {
     "data": {
      "text/plain": [
       "507100.0"
      ]
     },
     "execution_count": 8,
     "metadata": {},
     "output_type": "execute_result"
    }
   ],
   "source": [
    "Oceania['new_vaccinations'].sum()"
   ]
  },
  {
   "cell_type": "code",
   "execution_count": 14,
   "metadata": {},
   "outputs": [
    {
     "data": {
      "text/plain": [
       "96650200.0"
      ]
     },
     "execution_count": 14,
     "metadata": {},
     "output_type": "execute_result"
    }
   ],
   "source": [
    "Europe['new_vaccinations'].sum()"
   ]
  },
  {
   "cell_type": "code",
   "execution_count": 10,
   "metadata": {},
   "outputs": [
    {
     "data": {
      "text/plain": [
       "32521208.0"
      ]
     },
     "execution_count": 10,
     "metadata": {},
     "output_type": "execute_result"
    }
   ],
   "source": [
    "SouthAmerica['new_vaccinations'].sum()"
   ]
  },
  {
   "cell_type": "code",
   "execution_count": 18,
   "metadata": {},
   "outputs": [
    {
     "data": {
      "text/plain": [
       "24667067.0"
      ]
     },
     "execution_count": 18,
     "metadata": {},
     "output_type": "execute_result"
    }
   ],
   "source": [
    "Asia['new_cases'].sum()"
   ]
  },
  {
   "cell_type": "code",
   "execution_count": 19,
   "metadata": {},
   "outputs": [
    {
     "data": {
      "text/plain": [
       "34842561.0"
      ]
     },
     "execution_count": 19,
     "metadata": {},
     "output_type": "execute_result"
    }
   ],
   "source": [
    "NorthAmerica['new_cases'].sum()"
   ]
  },
  {
   "cell_type": "code",
   "execution_count": 20,
   "metadata": {},
   "outputs": [
    {
     "data": {
      "text/plain": [
       "4176092.0"
      ]
     },
     "execution_count": 20,
     "metadata": {},
     "output_type": "execute_result"
    }
   ],
   "source": [
    "Africa['new_cases'].sum()"
   ]
  },
  {
   "cell_type": "code",
   "execution_count": 21,
   "metadata": {},
   "outputs": [
    {
     "data": {
      "text/plain": [
       "36497.0"
      ]
     },
     "execution_count": 21,
     "metadata": {},
     "output_type": "execute_result"
    }
   ],
   "source": [
    "Oceania['new_cases'].sum()"
   ]
  },
  {
   "cell_type": "code",
   "execution_count": 23,
   "metadata": {},
   "outputs": [
    {
     "data": {
      "text/plain": [
       "39097128.0"
      ]
     },
     "execution_count": 23,
     "metadata": {},
     "output_type": "execute_result"
    }
   ],
   "source": [
    "Europe['new_cases'].sum()"
   ]
  },
  {
   "cell_type": "code",
   "execution_count": 24,
   "metadata": {},
   "outputs": [
    {
     "data": {
      "text/plain": [
       "20726934.0"
      ]
     },
     "execution_count": 24,
     "metadata": {},
     "output_type": "execute_result"
    }
   ],
   "source": [
    "SouthAmerica['new_cases'].sum()"
   ]
  },
  {
   "cell_type": "code",
   "execution_count": 25,
   "metadata": {},
   "outputs": [
    {
     "data": {
      "text/plain": [
       "394967957.0"
      ]
     },
     "execution_count": 25,
     "metadata": {},
     "output_type": "execute_result"
    }
   ],
   "source": [
    "Asia['new_tests'].sum()"
   ]
  },
  {
   "cell_type": "code",
   "execution_count": 26,
   "metadata": {},
   "outputs": [
    {
     "data": {
      "text/plain": [
       "25533879.0"
      ]
     },
     "execution_count": 26,
     "metadata": {},
     "output_type": "execute_result"
    }
   ],
   "source": [
    "Africa['new_tests'].sum()"
   ]
  },
  {
   "cell_type": "code",
   "execution_count": 27,
   "metadata": {},
   "outputs": [
    {
     "data": {
      "text/plain": [
       "383268579.0"
      ]
     },
     "execution_count": 27,
     "metadata": {},
     "output_type": "execute_result"
    }
   ],
   "source": [
    "NorthAmerica['new_tests'].sum()"
   ]
  },
  {
   "cell_type": "code",
   "execution_count": 28,
   "metadata": {},
   "outputs": [
    {
     "data": {
      "text/plain": [
       "37900697.0"
      ]
     },
     "execution_count": 28,
     "metadata": {},
     "output_type": "execute_result"
    }
   ],
   "source": [
    "SouthAmerica['new_tests'].sum()"
   ]
  },
  {
   "cell_type": "code",
   "execution_count": 29,
   "metadata": {},
   "outputs": [
    {
     "data": {
      "text/plain": [
       "502384605.0"
      ]
     },
     "execution_count": 29,
     "metadata": {},
     "output_type": "execute_result"
    }
   ],
   "source": [
    "Europe['new_tests'].sum()"
   ]
  },
  {
   "cell_type": "code",
   "execution_count": 30,
   "metadata": {},
   "outputs": [
    {
     "data": {
      "text/plain": [
       "11171169.0"
      ]
     },
     "execution_count": 30,
     "metadata": {},
     "output_type": "execute_result"
    }
   ],
   "source": [
    "Oceania['new_tests'].sum()"
   ]
  },
  {
   "cell_type": "code",
   "execution_count": 31,
   "metadata": {},
   "outputs": [
    {
     "name": "stderr",
     "output_type": "stream",
     "text": [
      "<ipython-input-31-e95d521d3bab>:1: SettingWithCopyWarning: \n",
      "A value is trying to be set on a copy of a slice from a DataFrame.\n",
      "Try using .loc[row_indexer,col_indexer] = value instead\n",
      "\n",
      "See the caveats in the documentation: https://pandas.pydata.org/pandas-docs/stable/user_guide/indexing.html#returning-a-view-versus-a-copy\n",
      "  Africa['recover_cases']= Africa['new_cases']-Africa['new_deaths']\n"
     ]
    }
   ],
   "source": [
    "Africa['recover_cases']= Africa['new_cases']-Africa['new_deaths']"
   ]
  },
  {
   "cell_type": "code",
   "execution_count": 35,
   "metadata": {},
   "outputs": [
    {
     "name": "stderr",
     "output_type": "stream",
     "text": [
      "<ipython-input-35-cd90cfdebe22>:1: SettingWithCopyWarning: \n",
      "A value is trying to be set on a copy of a slice from a DataFrame.\n",
      "Try using .loc[row_indexer,col_indexer] = value instead\n",
      "\n",
      "See the caveats in the documentation: https://pandas.pydata.org/pandas-docs/stable/user_guide/indexing.html#returning-a-view-versus-a-copy\n",
      "  Asia['recover_cases']= Asia['new_cases']-Asia['new_deaths']\n"
     ]
    }
   ],
   "source": [
    "Asia['recover_cases']= Asia['new_cases']-Asia['new_deaths']"
   ]
  },
  {
   "cell_type": "code",
   "execution_count": 36,
   "metadata": {},
   "outputs": [
    {
     "name": "stderr",
     "output_type": "stream",
     "text": [
      "<ipython-input-36-b478a77af0e5>:1: SettingWithCopyWarning: \n",
      "A value is trying to be set on a copy of a slice from a DataFrame.\n",
      "Try using .loc[row_indexer,col_indexer] = value instead\n",
      "\n",
      "See the caveats in the documentation: https://pandas.pydata.org/pandas-docs/stable/user_guide/indexing.html#returning-a-view-versus-a-copy\n",
      "  NorthAmerica['recover_cases']= NorthAmerica['new_cases']-NorthAmerica['new_deaths']\n"
     ]
    }
   ],
   "source": [
    "NorthAmerica['recover_cases']= NorthAmerica['new_cases']-NorthAmerica['new_deaths']"
   ]
  },
  {
   "cell_type": "code",
   "execution_count": 37,
   "metadata": {},
   "outputs": [
    {
     "name": "stderr",
     "output_type": "stream",
     "text": [
      "<ipython-input-37-0d7a7dbd19ec>:1: SettingWithCopyWarning: \n",
      "A value is trying to be set on a copy of a slice from a DataFrame.\n",
      "Try using .loc[row_indexer,col_indexer] = value instead\n",
      "\n",
      "See the caveats in the documentation: https://pandas.pydata.org/pandas-docs/stable/user_guide/indexing.html#returning-a-view-versus-a-copy\n",
      "  SouthAmerica['recover_cases']= SouthAmerica['new_cases']-SouthAmerica['new_deaths']\n"
     ]
    }
   ],
   "source": [
    "SouthAmerica['recover_cases']= SouthAmerica['new_cases']-SouthAmerica['new_deaths']"
   ]
  },
  {
   "cell_type": "code",
   "execution_count": 38,
   "metadata": {},
   "outputs": [
    {
     "name": "stderr",
     "output_type": "stream",
     "text": [
      "<ipython-input-38-2f1458f7fe48>:1: SettingWithCopyWarning: \n",
      "A value is trying to be set on a copy of a slice from a DataFrame.\n",
      "Try using .loc[row_indexer,col_indexer] = value instead\n",
      "\n",
      "See the caveats in the documentation: https://pandas.pydata.org/pandas-docs/stable/user_guide/indexing.html#returning-a-view-versus-a-copy\n",
      "  Europe['recover_cases']= Europe['new_cases']-Europe['new_deaths']\n"
     ]
    }
   ],
   "source": [
    "Europe['recover_cases']= Europe['new_cases']-Europe['new_deaths']"
   ]
  },
  {
   "cell_type": "code",
   "execution_count": 39,
   "metadata": {},
   "outputs": [
    {
     "name": "stderr",
     "output_type": "stream",
     "text": [
      "<ipython-input-39-a4f66dfc4774>:1: SettingWithCopyWarning: \n",
      "A value is trying to be set on a copy of a slice from a DataFrame.\n",
      "Try using .loc[row_indexer,col_indexer] = value instead\n",
      "\n",
      "See the caveats in the documentation: https://pandas.pydata.org/pandas-docs/stable/user_guide/indexing.html#returning-a-view-versus-a-copy\n",
      "  Oceania['recover_cases']= Oceania['new_cases']-Oceania['new_deaths']\n"
     ]
    }
   ],
   "source": [
    "Oceania['recover_cases']= Oceania['new_cases']-Oceania['new_deaths']"
   ]
  },
  {
   "cell_type": "code",
   "execution_count": 40,
   "metadata": {},
   "outputs": [
    {
     "data": {
      "text/plain": [
       "0.0"
      ]
     },
     "execution_count": 40,
     "metadata": {},
     "output_type": "execute_result"
    }
   ],
   "source": [
    "Africa['recover_cases'].sum()"
   ]
  },
  {
   "cell_type": "code",
   "execution_count": 42,
   "metadata": {},
   "outputs": [
    {
     "data": {
      "text/plain": [
       "24264943.0"
      ]
     },
     "execution_count": 42,
     "metadata": {},
     "output_type": "execute_result"
    }
   ],
   "source": [
    "Asia['recover_cases'].sum()"
   ]
  },
  {
   "cell_type": "code",
   "execution_count": 43,
   "metadata": {},
   "outputs": [
    {
     "data": {
      "text/plain": [
       "34040285.0"
      ]
     },
     "execution_count": 43,
     "metadata": {},
     "output_type": "execute_result"
    }
   ],
   "source": [
    "NorthAmerica['recover_cases'].sum()"
   ]
  },
  {
   "cell_type": "code",
   "execution_count": 44,
   "metadata": {},
   "outputs": [
    {
     "data": {
      "text/plain": [
       "20186905.0"
      ]
     },
     "execution_count": 44,
     "metadata": {},
     "output_type": "execute_result"
    }
   ],
   "source": [
    "SouthAmerica['recover_cases'].sum()"
   ]
  },
  {
   "cell_type": "code",
   "execution_count": 45,
   "metadata": {},
   "outputs": [
    {
     "data": {
      "text/plain": [
       "38185048.0"
      ]
     },
     "execution_count": 45,
     "metadata": {},
     "output_type": "execute_result"
    }
   ],
   "source": [
    "Europe['recover_cases'].sum()"
   ]
  },
  {
   "cell_type": "code",
   "execution_count": 46,
   "metadata": {},
   "outputs": [
    {
     "data": {
      "text/plain": [
       "34926.0"
      ]
     },
     "execution_count": 46,
     "metadata": {},
     "output_type": "execute_result"
    }
   ],
   "source": [
    "Oceania['recover_cases'].sum()"
   ]
  },
  {
   "cell_type": "code",
   "execution_count": 47,
   "metadata": {},
   "outputs": [
    {
     "data": {
      "text/html": [
       "<div>\n",
       "<style scoped>\n",
       "    .dataframe tbody tr th:only-of-type {\n",
       "        vertical-align: middle;\n",
       "    }\n",
       "\n",
       "    .dataframe tbody tr th {\n",
       "        vertical-align: top;\n",
       "    }\n",
       "\n",
       "    .dataframe thead th {\n",
       "        text-align: right;\n",
       "    }\n",
       "</style>\n",
       "<table border=\"1\" class=\"dataframe\">\n",
       "  <thead>\n",
       "    <tr style=\"text-align: right;\">\n",
       "      <th></th>\n",
       "      <th>iso_code</th>\n",
       "      <th>continent</th>\n",
       "      <th>location</th>\n",
       "      <th>date</th>\n",
       "      <th>total_cases</th>\n",
       "      <th>new_cases</th>\n",
       "      <th>new_cases_smoothed</th>\n",
       "      <th>total_deaths</th>\n",
       "      <th>new_deaths</th>\n",
       "      <th>new_deaths_smoothed</th>\n",
       "      <th>...</th>\n",
       "      <th>extreme_poverty</th>\n",
       "      <th>cardiovasc_death_rate</th>\n",
       "      <th>diabetes_prevalence</th>\n",
       "      <th>female_smokers</th>\n",
       "      <th>male_smokers</th>\n",
       "      <th>handwashing_facilities</th>\n",
       "      <th>hospital_beds_per_thousand</th>\n",
       "      <th>life_expectancy</th>\n",
       "      <th>human_development_index</th>\n",
       "      <th>recover_cases</th>\n",
       "    </tr>\n",
       "  </thead>\n",
       "  <tbody>\n",
       "    <tr>\n",
       "      <th>1204</th>\n",
       "      <td>DZA</td>\n",
       "      <td>Africa</td>\n",
       "      <td>Algeria</td>\n",
       "      <td>2020-02-25</td>\n",
       "      <td>1.0</td>\n",
       "      <td>1.0</td>\n",
       "      <td>NaN</td>\n",
       "      <td>NaN</td>\n",
       "      <td>NaN</td>\n",
       "      <td>NaN</td>\n",
       "      <td>...</td>\n",
       "      <td>0.5</td>\n",
       "      <td>278.364</td>\n",
       "      <td>6.73</td>\n",
       "      <td>0.7</td>\n",
       "      <td>30.4</td>\n",
       "      <td>83.741</td>\n",
       "      <td>1.9</td>\n",
       "      <td>76.88</td>\n",
       "      <td>0.748</td>\n",
       "      <td>NaN</td>\n",
       "    </tr>\n",
       "    <tr>\n",
       "      <th>1205</th>\n",
       "      <td>DZA</td>\n",
       "      <td>Africa</td>\n",
       "      <td>Algeria</td>\n",
       "      <td>2020-02-26</td>\n",
       "      <td>1.0</td>\n",
       "      <td>0.0</td>\n",
       "      <td>NaN</td>\n",
       "      <td>NaN</td>\n",
       "      <td>NaN</td>\n",
       "      <td>NaN</td>\n",
       "      <td>...</td>\n",
       "      <td>0.5</td>\n",
       "      <td>278.364</td>\n",
       "      <td>6.73</td>\n",
       "      <td>0.7</td>\n",
       "      <td>30.4</td>\n",
       "      <td>83.741</td>\n",
       "      <td>1.9</td>\n",
       "      <td>76.88</td>\n",
       "      <td>0.748</td>\n",
       "      <td>NaN</td>\n",
       "    </tr>\n",
       "    <tr>\n",
       "      <th>1206</th>\n",
       "      <td>DZA</td>\n",
       "      <td>Africa</td>\n",
       "      <td>Algeria</td>\n",
       "      <td>2020-02-27</td>\n",
       "      <td>1.0</td>\n",
       "      <td>0.0</td>\n",
       "      <td>NaN</td>\n",
       "      <td>NaN</td>\n",
       "      <td>NaN</td>\n",
       "      <td>NaN</td>\n",
       "      <td>...</td>\n",
       "      <td>0.5</td>\n",
       "      <td>278.364</td>\n",
       "      <td>6.73</td>\n",
       "      <td>0.7</td>\n",
       "      <td>30.4</td>\n",
       "      <td>83.741</td>\n",
       "      <td>1.9</td>\n",
       "      <td>76.88</td>\n",
       "      <td>0.748</td>\n",
       "      <td>NaN</td>\n",
       "    </tr>\n",
       "    <tr>\n",
       "      <th>1207</th>\n",
       "      <td>DZA</td>\n",
       "      <td>Africa</td>\n",
       "      <td>Algeria</td>\n",
       "      <td>2020-02-28</td>\n",
       "      <td>1.0</td>\n",
       "      <td>0.0</td>\n",
       "      <td>NaN</td>\n",
       "      <td>NaN</td>\n",
       "      <td>NaN</td>\n",
       "      <td>NaN</td>\n",
       "      <td>...</td>\n",
       "      <td>0.5</td>\n",
       "      <td>278.364</td>\n",
       "      <td>6.73</td>\n",
       "      <td>0.7</td>\n",
       "      <td>30.4</td>\n",
       "      <td>83.741</td>\n",
       "      <td>1.9</td>\n",
       "      <td>76.88</td>\n",
       "      <td>0.748</td>\n",
       "      <td>NaN</td>\n",
       "    </tr>\n",
       "    <tr>\n",
       "      <th>1208</th>\n",
       "      <td>DZA</td>\n",
       "      <td>Africa</td>\n",
       "      <td>Algeria</td>\n",
       "      <td>2020-02-29</td>\n",
       "      <td>1.0</td>\n",
       "      <td>0.0</td>\n",
       "      <td>NaN</td>\n",
       "      <td>NaN</td>\n",
       "      <td>NaN</td>\n",
       "      <td>NaN</td>\n",
       "      <td>...</td>\n",
       "      <td>0.5</td>\n",
       "      <td>278.364</td>\n",
       "      <td>6.73</td>\n",
       "      <td>0.7</td>\n",
       "      <td>30.4</td>\n",
       "      <td>83.741</td>\n",
       "      <td>1.9</td>\n",
       "      <td>76.88</td>\n",
       "      <td>0.748</td>\n",
       "      <td>NaN</td>\n",
       "    </tr>\n",
       "    <tr>\n",
       "      <th>...</th>\n",
       "      <td>...</td>\n",
       "      <td>...</td>\n",
       "      <td>...</td>\n",
       "      <td>...</td>\n",
       "      <td>...</td>\n",
       "      <td>...</td>\n",
       "      <td>...</td>\n",
       "      <td>...</td>\n",
       "      <td>...</td>\n",
       "      <td>...</td>\n",
       "      <td>...</td>\n",
       "      <td>...</td>\n",
       "      <td>...</td>\n",
       "      <td>...</td>\n",
       "      <td>...</td>\n",
       "      <td>...</td>\n",
       "      <td>...</td>\n",
       "      <td>...</td>\n",
       "      <td>...</td>\n",
       "      <td>...</td>\n",
       "      <td>...</td>\n",
       "    </tr>\n",
       "    <tr>\n",
       "      <th>77747</th>\n",
       "      <td>ZWE</td>\n",
       "      <td>Africa</td>\n",
       "      <td>Zimbabwe</td>\n",
       "      <td>2021-03-23</td>\n",
       "      <td>36717.0</td>\n",
       "      <td>33.0</td>\n",
       "      <td>26.000</td>\n",
       "      <td>1516.0</td>\n",
       "      <td>2.0</td>\n",
       "      <td>1.286</td>\n",
       "      <td>...</td>\n",
       "      <td>21.4</td>\n",
       "      <td>307.846</td>\n",
       "      <td>1.82</td>\n",
       "      <td>1.6</td>\n",
       "      <td>30.7</td>\n",
       "      <td>36.791</td>\n",
       "      <td>1.7</td>\n",
       "      <td>61.49</td>\n",
       "      <td>0.571</td>\n",
       "      <td>NaN</td>\n",
       "    </tr>\n",
       "    <tr>\n",
       "      <th>77748</th>\n",
       "      <td>ZWE</td>\n",
       "      <td>Africa</td>\n",
       "      <td>Zimbabwe</td>\n",
       "      <td>2021-03-24</td>\n",
       "      <td>36749.0</td>\n",
       "      <td>32.0</td>\n",
       "      <td>28.143</td>\n",
       "      <td>1516.0</td>\n",
       "      <td>0.0</td>\n",
       "      <td>1.143</td>\n",
       "      <td>...</td>\n",
       "      <td>21.4</td>\n",
       "      <td>307.846</td>\n",
       "      <td>1.82</td>\n",
       "      <td>1.6</td>\n",
       "      <td>30.7</td>\n",
       "      <td>36.791</td>\n",
       "      <td>1.7</td>\n",
       "      <td>61.49</td>\n",
       "      <td>0.571</td>\n",
       "      <td>NaN</td>\n",
       "    </tr>\n",
       "    <tr>\n",
       "      <th>77749</th>\n",
       "      <td>ZWE</td>\n",
       "      <td>Africa</td>\n",
       "      <td>Zimbabwe</td>\n",
       "      <td>2021-03-25</td>\n",
       "      <td>36778.0</td>\n",
       "      <td>29.0</td>\n",
       "      <td>23.857</td>\n",
       "      <td>1518.0</td>\n",
       "      <td>2.0</td>\n",
       "      <td>1.286</td>\n",
       "      <td>...</td>\n",
       "      <td>21.4</td>\n",
       "      <td>307.846</td>\n",
       "      <td>1.82</td>\n",
       "      <td>1.6</td>\n",
       "      <td>30.7</td>\n",
       "      <td>36.791</td>\n",
       "      <td>1.7</td>\n",
       "      <td>61.49</td>\n",
       "      <td>0.571</td>\n",
       "      <td>NaN</td>\n",
       "    </tr>\n",
       "    <tr>\n",
       "      <th>77750</th>\n",
       "      <td>ZWE</td>\n",
       "      <td>Africa</td>\n",
       "      <td>Zimbabwe</td>\n",
       "      <td>2021-03-26</td>\n",
       "      <td>36805.0</td>\n",
       "      <td>27.0</td>\n",
       "      <td>21.857</td>\n",
       "      <td>1518.0</td>\n",
       "      <td>0.0</td>\n",
       "      <td>1.143</td>\n",
       "      <td>...</td>\n",
       "      <td>21.4</td>\n",
       "      <td>307.846</td>\n",
       "      <td>1.82</td>\n",
       "      <td>1.6</td>\n",
       "      <td>30.7</td>\n",
       "      <td>36.791</td>\n",
       "      <td>1.7</td>\n",
       "      <td>61.49</td>\n",
       "      <td>0.571</td>\n",
       "      <td>NaN</td>\n",
       "    </tr>\n",
       "    <tr>\n",
       "      <th>77751</th>\n",
       "      <td>ZWE</td>\n",
       "      <td>Africa</td>\n",
       "      <td>Zimbabwe</td>\n",
       "      <td>2021-03-27</td>\n",
       "      <td>36818.0</td>\n",
       "      <td>13.0</td>\n",
       "      <td>22.286</td>\n",
       "      <td>1519.0</td>\n",
       "      <td>1.0</td>\n",
       "      <td>1.286</td>\n",
       "      <td>...</td>\n",
       "      <td>21.4</td>\n",
       "      <td>307.846</td>\n",
       "      <td>1.82</td>\n",
       "      <td>1.6</td>\n",
       "      <td>30.7</td>\n",
       "      <td>36.791</td>\n",
       "      <td>1.7</td>\n",
       "      <td>61.49</td>\n",
       "      <td>0.571</td>\n",
       "      <td>NaN</td>\n",
       "    </tr>\n",
       "  </tbody>\n",
       "</table>\n",
       "<p>20394 rows × 60 columns</p>\n",
       "</div>"
      ],
      "text/plain": [
       "      iso_code continent  location        date  total_cases  new_cases  \\\n",
       "1204       DZA    Africa   Algeria  2020-02-25          1.0        1.0   \n",
       "1205       DZA    Africa   Algeria  2020-02-26          1.0        0.0   \n",
       "1206       DZA    Africa   Algeria  2020-02-27          1.0        0.0   \n",
       "1207       DZA    Africa   Algeria  2020-02-28          1.0        0.0   \n",
       "1208       DZA    Africa   Algeria  2020-02-29          1.0        0.0   \n",
       "...        ...       ...       ...         ...          ...        ...   \n",
       "77747      ZWE    Africa  Zimbabwe  2021-03-23      36717.0       33.0   \n",
       "77748      ZWE    Africa  Zimbabwe  2021-03-24      36749.0       32.0   \n",
       "77749      ZWE    Africa  Zimbabwe  2021-03-25      36778.0       29.0   \n",
       "77750      ZWE    Africa  Zimbabwe  2021-03-26      36805.0       27.0   \n",
       "77751      ZWE    Africa  Zimbabwe  2021-03-27      36818.0       13.0   \n",
       "\n",
       "       new_cases_smoothed  total_deaths  new_deaths  new_deaths_smoothed  ...  \\\n",
       "1204                  NaN           NaN         NaN                  NaN  ...   \n",
       "1205                  NaN           NaN         NaN                  NaN  ...   \n",
       "1206                  NaN           NaN         NaN                  NaN  ...   \n",
       "1207                  NaN           NaN         NaN                  NaN  ...   \n",
       "1208                  NaN           NaN         NaN                  NaN  ...   \n",
       "...                   ...           ...         ...                  ...  ...   \n",
       "77747              26.000        1516.0         2.0                1.286  ...   \n",
       "77748              28.143        1516.0         0.0                1.143  ...   \n",
       "77749              23.857        1518.0         2.0                1.286  ...   \n",
       "77750              21.857        1518.0         0.0                1.143  ...   \n",
       "77751              22.286        1519.0         1.0                1.286  ...   \n",
       "\n",
       "       extreme_poverty  cardiovasc_death_rate  diabetes_prevalence  \\\n",
       "1204               0.5                278.364                 6.73   \n",
       "1205               0.5                278.364                 6.73   \n",
       "1206               0.5                278.364                 6.73   \n",
       "1207               0.5                278.364                 6.73   \n",
       "1208               0.5                278.364                 6.73   \n",
       "...                ...                    ...                  ...   \n",
       "77747             21.4                307.846                 1.82   \n",
       "77748             21.4                307.846                 1.82   \n",
       "77749             21.4                307.846                 1.82   \n",
       "77750             21.4                307.846                 1.82   \n",
       "77751             21.4                307.846                 1.82   \n",
       "\n",
       "       female_smokers  male_smokers  handwashing_facilities  \\\n",
       "1204              0.7          30.4                  83.741   \n",
       "1205              0.7          30.4                  83.741   \n",
       "1206              0.7          30.4                  83.741   \n",
       "1207              0.7          30.4                  83.741   \n",
       "1208              0.7          30.4                  83.741   \n",
       "...               ...           ...                     ...   \n",
       "77747             1.6          30.7                  36.791   \n",
       "77748             1.6          30.7                  36.791   \n",
       "77749             1.6          30.7                  36.791   \n",
       "77750             1.6          30.7                  36.791   \n",
       "77751             1.6          30.7                  36.791   \n",
       "\n",
       "       hospital_beds_per_thousand  life_expectancy  human_development_index  \\\n",
       "1204                          1.9            76.88                    0.748   \n",
       "1205                          1.9            76.88                    0.748   \n",
       "1206                          1.9            76.88                    0.748   \n",
       "1207                          1.9            76.88                    0.748   \n",
       "1208                          1.9            76.88                    0.748   \n",
       "...                           ...              ...                      ...   \n",
       "77747                         1.7            61.49                    0.571   \n",
       "77748                         1.7            61.49                    0.571   \n",
       "77749                         1.7            61.49                    0.571   \n",
       "77750                         1.7            61.49                    0.571   \n",
       "77751                         1.7            61.49                    0.571   \n",
       "\n",
       "       recover_cases  \n",
       "1204             NaN  \n",
       "1205             NaN  \n",
       "1206             NaN  \n",
       "1207             NaN  \n",
       "1208             NaN  \n",
       "...              ...  \n",
       "77747            NaN  \n",
       "77748            NaN  \n",
       "77749            NaN  \n",
       "77750            NaN  \n",
       "77751            NaN  \n",
       "\n",
       "[20394 rows x 60 columns]"
      ]
     },
     "execution_count": 47,
     "metadata": {},
     "output_type": "execute_result"
    }
   ],
   "source": [
    "Africa"
   ]
  },
  {
   "cell_type": "code",
   "execution_count": 48,
   "metadata": {},
   "outputs": [
    {
     "name": "stderr",
     "output_type": "stream",
     "text": [
      "<ipython-input-48-59d73dae1a72>:1: SettingWithCopyWarning: \n",
      "A value is trying to be set on a copy of a slice from a DataFrame.\n",
      "Try using .loc[row_indexer,col_indexer] = value instead\n",
      "\n",
      "See the caveats in the documentation: https://pandas.pydata.org/pandas-docs/stable/user_guide/indexing.html#returning-a-view-versus-a-copy\n",
      "  Africa['recover_cases']=Africa['new_cases']=Africa['new_deaths']\n"
     ]
    }
   ],
   "source": [
    "Africa['recover_cases']=Africa['new_cases']=Africa['new_deaths']"
   ]
  },
  {
   "cell_type": "code",
   "execution_count": 50,
   "metadata": {},
   "outputs": [
    {
     "data": {
      "text/plain": [
       "111730.0"
      ]
     },
     "execution_count": 50,
     "metadata": {},
     "output_type": "execute_result"
    }
   ],
   "source": [
    "Africa['recover_cases'].sum()"
   ]
  },
  {
   "cell_type": "code",
   "execution_count": null,
   "metadata": {},
   "outputs": [],
   "source": []
  }
 ],
 "metadata": {
  "kernelspec": {
   "display_name": "Python 3",
   "language": "python",
   "name": "python3"
  },
  "language_info": {
   "codemirror_mode": {
    "name": "ipython",
    "version": 3
   },
   "file_extension": ".py",
   "mimetype": "text/x-python",
   "name": "python",
   "nbconvert_exporter": "python",
   "pygments_lexer": "ipython3",
   "version": "3.8.3"
  }
 },
 "nbformat": 4,
 "nbformat_minor": 4
}
